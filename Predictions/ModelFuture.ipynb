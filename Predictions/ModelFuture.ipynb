{
  "cells": [
    {
      "cell_type": "code",
      "execution_count": null,
      "metadata": {
        "colab": {
          "base_uri": "https://localhost:8080/"
        },
        "id": "CP68l2w6biGu",
        "outputId": "87d0eb3e-6962-4f28-eaa1-9c74eb762b1d"
      },
      "outputs": [
        {
          "output_type": "stream",
          "name": "stdout",
          "text": [
            "Looking in indexes: https://pypi.org/simple, https://us-python.pkg.dev/colab-wheels/public/simple/\n",
            "Collecting wget\n",
            "  Downloading wget-3.2.zip (10 kB)\n",
            "  Preparing metadata (setup.py) ... \u001b[?25l\u001b[?25hdone\n",
            "Building wheels for collected packages: wget\n",
            "  Building wheel for wget (setup.py) ... \u001b[?25l\u001b[?25hdone\n",
            "  Created wheel for wget: filename=wget-3.2-py3-none-any.whl size=9657 sha256=e0d37bfe30f915125a299e6495e84433eb0f05c3581cd22844562dbb7015ee1a\n",
            "  Stored in directory: /root/.cache/pip/wheels/8b/f1/7f/5c94f0a7a505ca1c81cd1d9208ae2064675d97582078e6c769\n",
            "Successfully built wget\n",
            "Installing collected packages: wget\n",
            "Successfully installed wget-3.2\n"
          ]
        }
      ],
      "source": [
        "pip install wget"
      ],
      "id": "CP68l2w6biGu"
    },
    {
      "cell_type": "code",
      "source": [
        "from google.colab import drive\n",
        "drive.mount('/content/drive')"
      ],
      "metadata": {
        "colab": {
          "base_uri": "https://localhost:8080/"
        },
        "id": "KMIEOVSCkN76",
        "outputId": "f1b716f2-ad1e-47ef-f63b-a44ebb43b0e6"
      },
      "id": "KMIEOVSCkN76",
      "execution_count": null,
      "outputs": [
        {
          "output_type": "stream",
          "name": "stdout",
          "text": [
            "Mounted at /content/drive\n"
          ]
        }
      ]
    },
    {
      "cell_type": "code",
      "execution_count": null,
      "metadata": {
        "id": "4b282aeb"
      },
      "outputs": [],
      "source": [
        "import requests\n",
        "import regex as re\n",
        "import wget\n",
        "import os"
      ],
      "id": "4b282aeb"
    },
    {
      "cell_type": "code",
      "execution_count": null,
      "metadata": {
        "id": "437e208e"
      },
      "outputs": [],
      "source": [
        "import datetime\n",
        "\n",
        "sd = datetime.datetime(2023,4,24).strftime(\"%Y%m%d\")\n",
        "ed = datetime.datetime(2023,4,24).strftime(\"%Y%m%d\")"
      ],
      "id": "437e208e"
    },
    {
      "cell_type": "code",
      "execution_count": null,
      "metadata": {
        "id": "0447d128"
      },
      "outputs": [],
      "source": [
        "import pandas as pd\n",
        "ls=pd.date_range(sd,ed)"
      ],
      "id": "0447d128"
    },
    {
      "cell_type": "code",
      "execution_count": null,
      "metadata": {
        "id": "1aa0dd86"
      },
      "outputs": [],
      "source": [
        "dates=[dt.strftime(\"%Y%m%d\") for dt in ls]"
      ],
      "id": "1aa0dd86"
    },
    {
      "cell_type": "code",
      "execution_count": null,
      "metadata": {
        "id": "5464c919"
      },
      "outputs": [],
      "source": [
        "years={date[:4] for date in dates}\n",
        "months={date[4:6] for date in dates}"
      ],
      "id": "5464c919"
    },
    {
      "cell_type": "code",
      "execution_count": null,
      "metadata": {
        "id": "756aab5b"
      },
      "outputs": [],
      "source": [
        "txt=\"\"\n",
        "for year in years:\n",
        "    for month in months:\n",
        "        base='https://www.ngdc.noaa.gov/dscovr/data/'+year+'/'+month+'/'\n",
        "        txt+=requests.get(base).text"
      ],
      "id": "756aab5b"
    },
    {
      "cell_type": "code",
      "execution_count": null,
      "metadata": {
        "id": "UejB9lseH1AZ"
      },
      "outputs": [],
      "source": [
        "urllist=[]"
      ],
      "id": "UejB9lseH1AZ"
    },
    {
      "cell_type": "code",
      "execution_count": null,
      "metadata": {
        "colab": {
          "base_uri": "https://localhost:8080/"
        },
        "id": "8a894992",
        "outputId": "e4f0c6e4-8f0b-4ff9-b47b-878f1eb2fbc9"
      },
      "outputs": [
        {
          "output_type": "stream",
          "name": "stdout",
          "text": [
            "20230424 :  https://www.ngdc.noaa.gov/dscovr/data/2023/04/oe_m1m_dscovr_s20230424000000_e20230424235959_p20230425021820_pub.nc.gz\n"
          ]
        }
      ],
      "source": [
        "for date in dates:\n",
        "    base='https://www.ngdc.noaa.gov/dscovr/data/'+date[:4]+'/'+date[4:6]+'/'\n",
        "    x=re.search(str(\"oe_m1m_dscovr_s\"+date+\"000000_\"), txt).start()\n",
        "    url=base+txt[x: x+71]\n",
        "    print(date,\": \",url)\n",
        "    urllist.append(url[46:])\n",
        "    wget.download(url)"
      ],
      "id": "8a894992"
    },
    {
      "cell_type": "code",
      "execution_count": null,
      "metadata": {
        "id": "xS4-zv06emHk"
      },
      "outputs": [],
      "source": [
        "import numpy as np\n",
        "import torch\n",
        "import xarray as xr"
      ],
      "id": "xS4-zv06emHk"
    },
    {
      "cell_type": "code",
      "execution_count": null,
      "metadata": {
        "id": "g9Mg4FltIIZa"
      },
      "outputs": [],
      "source": [
        "l=len(urllist)"
      ],
      "id": "g9Mg4FltIIZa"
    },
    {
      "cell_type": "code",
      "execution_count": null,
      "metadata": {
        "id": "xHPKpagRKat3"
      },
      "outputs": [],
      "source": [
        "magdata=[]"
      ],
      "id": "xHPKpagRKat3"
    },
    {
      "cell_type": "code",
      "execution_count": null,
      "metadata": {
        "id": "oZCHX19bJk9o"
      },
      "outputs": [],
      "source": [
        "for i in range(0,l):\n",
        "  ds=xr.open_dataset('/content/'+urllist[i])\n",
        "  df=ds.to_dataframe()\n",
        "  actualdf=df.dropna()\n",
        "  df_len=len(actualdf)\n",
        "  for j in range(0,df_len,60):\n",
        "   bx_gse_hour=np.nanmean(np.array(actualdf['bx_gse'][j:j+60]))\n",
        "   by_gse_hour=np.nanmean(np.array(actualdf['by_gse'][j:j+60]))\n",
        "   bz_gse_hour=np.nanmean(np.array(actualdf['bz_gse'][j:j+60]))\n",
        "   magdata.append([bx_gse_hour,by_gse_hour,bz_gse_hour])"
      ],
      "id": "oZCHX19bJk9o"
    },
    {
      "cell_type": "code",
      "execution_count": null,
      "metadata": {
        "id": "z1FFjKxBMWez"
      },
      "outputs": [],
      "source": [
        "magdata_numpy=np.array(magdata)"
      ],
      "id": "z1FFjKxBMWez"
    },
    {
      "cell_type": "code",
      "execution_count": null,
      "metadata": {
        "id": "KVo1VJcSMjyb"
      },
      "outputs": [],
      "source": [
        "magdata_torch= torch.from_numpy(magdata_numpy)"
      ],
      "id": "KVo1VJcSMjyb"
    },
    {
      "cell_type": "code",
      "execution_count": null,
      "metadata": {
        "id": "VI1JVEW9M4QM"
      },
      "outputs": [],
      "source": [
        "import torch.nn as nn\n",
        "from argparse import ArgumentParser, Namespace\n",
        "import enum\n",
        "from pathlib import Path\n",
        "from typing import Dict\n",
        "import matplotlib.pyplot as plt"
      ],
      "id": "VI1JVEW9M4QM"
    },
    {
      "cell_type": "code",
      "source": [
        "class Seq2Seq(nn.Module):\n",
        "    def __init__(\n",
        "        self,\n",
        "        input_dim: int,\n",
        "        hidden_dim: int,\n",
        "        output_dim: int,\n",
        "        num_layers: int) -> None:\n",
        "        super(Seq2Seq, self).__init__()\n",
        "\n",
        "        self.rnn = nn.GRU(input_dim, hidden_dim, num_layers, batch_first=True)\n",
        "        self.dnn = nn.Sequential(\n",
        "            nn.Linear(hidden_dim, output_dim)\n",
        "        )\n",
        "\n",
        "    def forward(self, seq: torch.Tensor) -> torch.Tensor:\n",
        "        # seq: [bs, seq_len, input_dim]\n",
        "        output, hn = self.rnn(seq)\n",
        "        output = self.dnn(output)\n",
        "        return output"
      ],
      "metadata": {
        "id": "FRAE7ACDim4x"
      },
      "id": "FRAE7ACDim4x",
      "execution_count": null,
      "outputs": []
    },
    {
      "cell_type": "code",
      "execution_count": null,
      "metadata": {
        "id": "xAwrdl3yP1Z0",
        "colab": {
          "base_uri": "https://localhost:8080/"
        },
        "outputId": "062ccaf7-7609-4628-bf41-d41a87d1d984"
      },
      "outputs": [
        {
          "output_type": "execute_result",
          "data": {
            "text/plain": [
              "<All keys matched successfully>"
            ]
          },
          "metadata": {},
          "execution_count": 189
        }
      ],
      "source": [
        "model1 = Seq2Seq(3,3,3,3)\n",
        "model1.load_state_dict(torch.load(\"/content/drive/MyDrive/dscovr_proton3.pt\"))"
      ],
      "id": "xAwrdl3yP1Z0"
    },
    {
      "cell_type": "code",
      "execution_count": null,
      "metadata": {
        "id": "ydxu9P87UkIL"
      },
      "outputs": [],
      "source": [
        "m3=magdata_torch.unsqueeze(-1)"
      ],
      "id": "ydxu9P87UkIL"
    },
    {
      "cell_type": "code",
      "source": [
        "datalen=m3.shape[0]"
      ],
      "metadata": {
        "id": "7yytIPtMk-Ik"
      },
      "id": "7yytIPtMk-Ik",
      "execution_count": null,
      "outputs": []
    },
    {
      "cell_type": "code",
      "source": [
        "m3=m3.expand(datalen,3,3)"
      ],
      "metadata": {
        "id": "8PiWreXnlCJi"
      },
      "id": "8PiWreXnlCJi",
      "execution_count": null,
      "outputs": []
    },
    {
      "cell_type": "code",
      "source": [
        "m3=m3.transpose(1,0)"
      ],
      "metadata": {
        "id": "zrYsJMkTEI8V"
      },
      "id": "zrYsJMkTEI8V",
      "execution_count": null,
      "outputs": []
    },
    {
      "cell_type": "code",
      "source": [
        "proton=model1(m3.float())"
      ],
      "metadata": {
        "id": "AqbnVo9SOQ1K"
      },
      "id": "AqbnVo9SOQ1K",
      "execution_count": null,
      "outputs": []
    },
    {
      "cell_type": "code",
      "source": [
        "modeld1=Seq2Seq(1,1,1,3)\n",
        "modeld1.load_state_dict(torch.load('/content/drive/MyDrive/proton_to_dst_new14.pt'))\n"
      ],
      "metadata": {
        "colab": {
          "base_uri": "https://localhost:8080/"
        },
        "id": "JOJWSre1z_Hd",
        "outputId": "93deaa40-de07-4134-c705-d7fd4a675664"
      },
      "id": "JOJWSre1z_Hd",
      "execution_count": null,
      "outputs": [
        {
          "output_type": "execute_result",
          "data": {
            "text/plain": [
              "<All keys matched successfully>"
            ]
          },
          "metadata": {},
          "execution_count": 195
        }
      ]
    },
    {
      "cell_type": "code",
      "source": [
        "modeld2=Seq2Seq(1,1,1,3)\n",
        "modeld2.load_state_dict(torch.load('/content/drive/MyDrive/proton_to_dst_new17.pt'))"
      ],
      "metadata": {
        "colab": {
          "base_uri": "https://localhost:8080/"
        },
        "id": "gBlbNd2PE9zI",
        "outputId": "0d1580c2-c3bf-473b-cf41-261f67ccef77"
      },
      "id": "gBlbNd2PE9zI",
      "execution_count": null,
      "outputs": [
        {
          "output_type": "execute_result",
          "data": {
            "text/plain": [
              "<All keys matched successfully>"
            ]
          },
          "metadata": {},
          "execution_count": 196
        }
      ]
    },
    {
      "cell_type": "code",
      "source": [
        "modeld3=Seq2Seq(1,1,1,3)\n",
        "modeld3.load_state_dict(torch.load('/content/drive/MyDrive/proton_to_dst_new18.pt'))"
      ],
      "metadata": {
        "colab": {
          "base_uri": "https://localhost:8080/"
        },
        "id": "IuJ7K7YjFJ8B",
        "outputId": "8d3ab417-5457-4a02-a4f4-29b5715c0f26"
      },
      "id": "IuJ7K7YjFJ8B",
      "execution_count": null,
      "outputs": [
        {
          "output_type": "execute_result",
          "data": {
            "text/plain": [
              "<All keys matched successfully>"
            ]
          },
          "metadata": {},
          "execution_count": 197
        }
      ]
    },
    {
      "cell_type": "code",
      "source": [
        "nprod1=[]\n",
        "for i in range(proton.shape[1]):\n",
        "  pnp=0\n",
        "  for j in range(proton.shape[0]):\n",
        "    pnp+=proton[j][i][0].detach().numpy()\n",
        "  pnp=pnp/proton.shape[0]\n",
        "  nprod1.append(pnp)"
      ],
      "metadata": {
        "id": "_nYcFsskO8Zc"
      },
      "id": "_nYcFsskO8Zc",
      "execution_count": null,
      "outputs": []
    },
    {
      "cell_type": "code",
      "source": [
        "nprod1_torch=torch.from_numpy(np.array(nprod1))"
      ],
      "metadata": {
        "id": "TEgghSSTDw4k"
      },
      "id": "TEgghSSTDw4k",
      "execution_count": null,
      "outputs": []
    },
    {
      "cell_type": "code",
      "source": [
        "nprod2=[]\n",
        "for i in range(proton.shape[1]):\n",
        "  pnp=0\n",
        "  for j in range(proton.shape[0]):\n",
        "    pnp+=proton[j][i][1].detach().numpy()\n",
        "  pnp=pnp/proton.shape[0]\n",
        "  nprod2.append(pnp)"
      ],
      "metadata": {
        "id": "yoRz43l_D1DA"
      },
      "id": "yoRz43l_D1DA",
      "execution_count": null,
      "outputs": []
    },
    {
      "cell_type": "code",
      "source": [
        "nprod2_torch=torch.from_numpy(np.array(nprod2))"
      ],
      "metadata": {
        "id": "elVTrYHrEBP6"
      },
      "id": "elVTrYHrEBP6",
      "execution_count": null,
      "outputs": []
    },
    {
      "cell_type": "code",
      "source": [
        "nprod3=[]\n",
        "for i in range(proton.shape[1]):\n",
        "  pnp=0\n",
        "  for j in range(proton.shape[0]):\n",
        "    pnp+=proton[j][i][2].detach().numpy()\n",
        "  pnp=pnp/proton.shape[0]\n",
        "  nprod3.append(pnp)"
      ],
      "metadata": {
        "id": "C363jyI6EF2e"
      },
      "id": "C363jyI6EF2e",
      "execution_count": null,
      "outputs": []
    },
    {
      "cell_type": "code",
      "source": [
        "nprod3_torch=torch.from_numpy(np.array(nprod3))"
      ],
      "metadata": {
        "id": "sy5TPRgZENbM"
      },
      "id": "sy5TPRgZENbM",
      "execution_count": null,
      "outputs": []
    },
    {
      "cell_type": "code",
      "source": [
        "dstd1=modeld1(nprod1_torch.unsqueeze(-1).float())\n",
        "dstd2=modeld2(nprod2_torch.unsqueeze(-1).float())"
      ],
      "metadata": {
        "id": "aCbHQvqR0hbB"
      },
      "id": "aCbHQvqR0hbB",
      "execution_count": null,
      "outputs": []
    },
    {
      "cell_type": "code",
      "source": [
        "dstd3=modeld3(nprod3_torch.unsqueeze(-1).float())"
      ],
      "metadata": {
        "id": "44i-y-rrKf2m"
      },
      "id": "44i-y-rrKf2m",
      "execution_count": null,
      "outputs": []
    },
    {
      "cell_type": "code",
      "source": [
        "dstd1val=dstd1.detach().numpy()\n",
        "dstd2val=dstd2.detach().numpy()\n",
        "dstd3val=dstd3.detach().numpy()"
      ],
      "metadata": {
        "id": "fe8ZXHHeSFt7"
      },
      "id": "fe8ZXHHeSFt7",
      "execution_count": null,
      "outputs": []
    },
    {
      "cell_type": "code",
      "source": [
        "from sklearn.linear_model import LinearRegression"
      ],
      "metadata": {
        "id": "USmz6VZq4iYQ"
      },
      "id": "USmz6VZq4iYQ",
      "execution_count": null,
      "outputs": []
    },
    {
      "cell_type": "code",
      "source": [
        "regr1=LinearRegression().fit(dstd1val[0:16].reshape(-1,1),dstd3val[0:16].reshape(-1,1))"
      ],
      "metadata": {
        "id": "xerJpNPZ7Hxt"
      },
      "id": "xerJpNPZ7Hxt",
      "execution_count": null,
      "outputs": []
    },
    {
      "cell_type": "code",
      "source": [
        "r1=regr1.predict(dstd1val.reshape(-1,1))"
      ],
      "metadata": {
        "id": "Zfihe8WKCEJ5"
      },
      "id": "Zfihe8WKCEJ5",
      "execution_count": null,
      "outputs": []
    },
    {
      "cell_type": "code",
      "source": [
        "dst=[]\n",
        "ld=len(dstd2val)\n",
        "for i in range(ld):\n",
        "  if dstd1val[i][0]>0:\n",
        "    w1=20\n",
        "  else:\n",
        "    w1=10\n",
        "  if dstd2val[i][0]>0:\n",
        "    w2=20\n",
        "  else:\n",
        "    w2=10\n",
        "  if dstd3val[i][0]>0:\n",
        "    w3=20\n",
        "  else:\n",
        "    w3=10\n",
        "  if magdata_numpy[i][0]+magdata_numpy[i][1]+magdata_numpy[i][2]>0:\n",
        "   dstval=(dstd1val[i][0])*w1+(dstd2val[i][0])*w2-r1[i][0]*w3\n",
        "  elif magdata_numpy[i][0]+magdata_numpy[i][1]+magdata_numpy[i][2]<0 and dstd1val[i][0]<dstd2val[i][0]:\n",
        "    dstval=-(dstd1val[i][0])*w1+(dstd2val[i][0])*w2+r1[i][0]*w3\n",
        "  elif magdata_numpy[i][0]+magdata_numpy[i][1]+magdata_numpy[i][2]<0 and dstd1val[i][0]>dstd2val[i][0]:\n",
        "    dstval=(dstd1val[i][0])*w1-(dstd2val[i][0])*w2+r1[i][0]*w3\n",
        "  dst.append(dstval)"
      ],
      "metadata": {
        "id": "xfhzlxVG-Nl8"
      },
      "id": "xfhzlxVG-Nl8",
      "execution_count": null,
      "outputs": []
    },
    {
      "cell_type": "code",
      "source": [
        "plt.plot(dst)"
      ],
      "metadata": {
        "colab": {
          "base_uri": "https://localhost:8080/",
          "height": 447
        },
        "id": "u8kUFHM1nJIR",
        "outputId": "969fa910-4b76-4f59-abd4-9be413c81a3c"
      },
      "id": "u8kUFHM1nJIR",
      "execution_count": null,
      "outputs": [
        {
          "output_type": "execute_result",
          "data": {
            "text/plain": [
              "[<matplotlib.lines.Line2D at 0x7fad32ba5570>]"
            ]
          },
          "metadata": {},
          "execution_count": 215
        },
        {
          "output_type": "display_data",
          "data": {
            "text/plain": [
              "<Figure size 640x480 with 1 Axes>"
            ],
            "image/png": "[encoded data removed]"
          },
          "metadata": {}
        }
      ]
    }
  ],
  "metadata": {
    "colab": {
      "provenance": []
    },
    "kernelspec": {
      "display_name": "Python 3 (ipykernel)",
      "language": "python",
      "name": "python3"
    },
    "language_info": {
      "codemirror_mode": {
        "name": "ipython",
        "version": 3
      },
      "file_extension": ".py",
      "mimetype": "text/x-python",
      "name": "python",
      "nbconvert_exporter": "python",
      "pygments_lexer": "ipython3",
      "version": "3.9.12"
    }
  },
  "nbformat": 4,
  "nbformat_minor": 5
}