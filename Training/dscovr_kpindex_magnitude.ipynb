{
  "nbformat": 4,
  "nbformat_minor": 0,
  "metadata": {
    "colab": {
      "provenance": []
    },
    "kernelspec": {
      "name": "python3",
      "display_name": "Python 3"
    },
    "language_info": {
      "name": "python"
    }
  },
  "cells": [
    {
      "cell_type": "code",
      "source": [
        "!pip install utils"
      ],
      "metadata": {
        "colab": {
          "base_uri": "https://localhost:8080/"
        },
        "id": "2Tr_GkDEBLZ8",
        "outputId": "1a4aeac6-c70e-403a-bb87-4d11132cf0d5"
      },
      "execution_count": 1,
      "outputs": [
        {
          "output_type": "stream",
          "name": "stdout",
          "text": [
            "Looking in indexes: https://pypi.org/simple, https://us-python.pkg.dev/colab-wheels/public/simple/\n",
            "Collecting utils\n",
            "  Downloading utils-1.0.1-py2.py3-none-any.whl (21 kB)\n",
            "Installing collected packages: utils\n",
            "Successfully installed utils-1.0.1\n"
          ]
        }
      ]
    },
    {
      "cell_type": "code",
      "source": [
        "from google.colab import drive\n",
        "drive.mount('/content/drive')"
      ],
      "metadata": {
        "id": "oTS4zc28ngo3",
        "colab": {
          "base_uri": "https://localhost:8080/"
        },
        "outputId": "079e7959-85b7-4a5b-91a8-fa1968b2c2b5"
      },
      "execution_count": 2,
      "outputs": [
        {
          "output_type": "stream",
          "name": "stdout",
          "text": [
            "Drive already mounted at /content/drive; to attempt to forcibly remount, call drive.mount(\"/content/drive\", force_remount=True).\n"
          ]
        }
      ]
    },
    {
      "cell_type": "code",
      "source": [
        "!pip install wget"
      ],
      "metadata": {
        "colab": {
          "base_uri": "https://localhost:8080/"
        },
        "id": "BOZyQCHhRc3g",
        "outputId": "51084d27-27ce-464a-b59a-fa49ab783304"
      },
      "execution_count": 3,
      "outputs": [
        {
          "output_type": "stream",
          "name": "stdout",
          "text": [
            "Looking in indexes: https://pypi.org/simple, https://us-python.pkg.dev/colab-wheels/public/simple/\n",
            "Collecting wget\n",
            "  Downloading wget-3.2.zip (10 kB)\n",
            "  Preparing metadata (setup.py) ... \u001b[?25l\u001b[?25hdone\n",
            "Building wheels for collected packages: wget\n",
            "  Building wheel for wget (setup.py) ... \u001b[?25l\u001b[?25hdone\n",
            "  Created wheel for wget: filename=wget-3.2-py3-none-any.whl size=9657 sha256=327c76ed12649f0a77019fe995223b74d977847b0ccefdc380457af7973fc0f0\n",
            "  Stored in directory: /root/.cache/pip/wheels/8b/f1/7f/5c94f0a7a505ca1c81cd1d9208ae2064675d97582078e6c769\n",
            "Successfully built wget\n",
            "Installing collected packages: wget\n",
            "Successfully installed wget-3.2\n"
          ]
        }
      ]
    },
    {
      "cell_type": "code",
      "source": [
        "import requests\n",
        "import regex as re\n",
        "import wget\n",
        "import os"
      ],
      "metadata": {
        "id": "9mXL6N7MI3u3"
      },
      "execution_count": 4,
      "outputs": []
    },
    {
      "cell_type": "code",
      "execution_count": 5,
      "metadata": {
        "id": "qX2nN5zpzGvp"
      },
      "outputs": [],
      "source": [
        "import numpy as np\n",
        "from pathlib import Path\n",
        "os.environ[\"KMP_DUPLICATE_LIB_OK\"] = \"TRUE\"\n",
        "import xarray as xr\n",
        "import datetime\n",
        "import pandas as pd"
      ]
    },
    {
      "cell_type": "code",
      "source": [
        "\n",
        "sd = datetime.datetime(2023,4,14).strftime(\"%Y%m%d\")\n",
        "ed = datetime.datetime(2023,5,13).strftime(\"%Y%m%d\")"
      ],
      "metadata": {
        "id": "kvzPrcbTI_CS"
      },
      "execution_count": 6,
      "outputs": []
    },
    {
      "cell_type": "code",
      "source": [
        "ls=pd.date_range(sd,ed)"
      ],
      "metadata": {
        "id": "hc0l-U_wJLbs"
      },
      "execution_count": 7,
      "outputs": []
    },
    {
      "cell_type": "code",
      "source": [
        "dates=[dt.strftime(\"%Y%m%d\") for dt in ls]"
      ],
      "metadata": {
        "id": "QMo--J7DJU1b"
      },
      "execution_count": 8,
      "outputs": []
    },
    {
      "cell_type": "code",
      "source": [
        "years={date[:4] for date in dates}\n",
        "months={date[4:6] for date in dates}"
      ],
      "metadata": {
        "id": "PpdBgVAiJaG5"
      },
      "execution_count": 9,
      "outputs": []
    },
    {
      "cell_type": "code",
      "source": [
        "txt=\"\"\n",
        "for year in years:\n",
        "    for month in months:\n",
        "        base='https://www.ngdc.noaa.gov/dscovr/data/'+year+'/'+month+'/'\n",
        "        txt+=requests.get(base).text"
      ],
      "metadata": {
        "id": "hV1YRqdBJeHP"
      },
      "execution_count": 10,
      "outputs": []
    },
    {
      "cell_type": "code",
      "source": [
        "urllist=[]"
      ],
      "metadata": {
        "id": "Ha_qCQfyJi5N"
      },
      "execution_count": 11,
      "outputs": []
    },
    {
      "cell_type": "code",
      "source": [
        "for date in dates:\n",
        "    base='https://www.ngdc.noaa.gov/dscovr/data/'+date[:4]+'/'+date[4:6]+'/'\n",
        "    x=re.search(str(\"oe_m1m_dscovr_s\"+date+\"000000_\"), txt).start()\n",
        "    url=base+txt[x: x+71]\n",
        "    print(date,\": \",url)\n",
        "    urllist.append(url[46:])\n",
        "    wget.download(url)"
      ],
      "metadata": {
        "colab": {
          "base_uri": "https://localhost:8080/"
        },
        "id": "qyE0Mi6xJl76",
        "outputId": "6ceb88cb-3642-4cb7-84d3-67e57fa6939b"
      },
      "execution_count": 12,
      "outputs": [
        {
          "output_type": "stream",
          "name": "stdout",
          "text": [
            "20230414 :  https://www.ngdc.noaa.gov/dscovr/data/2023/04/oe_m1m_dscovr_s20230414000000_e20230414235959_p20230415030607_pub.nc.gz\n",
            "20230415 :  https://www.ngdc.noaa.gov/dscovr/data/2023/04/oe_m1m_dscovr_s20230415000000_e20230415235959_p20230416021755_pub.nc.gz\n",
            "20230416 :  https://www.ngdc.noaa.gov/dscovr/data/2023/04/oe_m1m_dscovr_s20230416000000_e20230416235959_p20230417021758_pub.nc.gz\n",
            "20230417 :  https://www.ngdc.noaa.gov/dscovr/data/2023/04/oe_m1m_dscovr_s20230417000000_e20230417235959_p20230418021823_pub.nc.gz\n",
            "20230418 :  https://www.ngdc.noaa.gov/dscovr/data/2023/04/oe_m1m_dscovr_s20230418000000_e20230418235959_p20230419021721_pub.nc.gz\n",
            "20230419 :  https://www.ngdc.noaa.gov/dscovr/data/2023/04/oe_m1m_dscovr_s20230419000000_e20230419235959_p20230420021759_pub.nc.gz\n",
            "20230420 :  https://www.ngdc.noaa.gov/dscovr/data/2023/04/oe_m1m_dscovr_s20230420000000_e20230420235959_p20230422014049_pub.nc.gz\n",
            "20230421 :  https://www.ngdc.noaa.gov/dscovr/data/2023/04/oe_m1m_dscovr_s20230421000000_e20230421235959_p20230422030555_pub.nc.gz\n",
            "20230422 :  https://www.ngdc.noaa.gov/dscovr/data/2023/04/oe_m1m_dscovr_s20230422000000_e20230422235959_p20230423021751_pub.nc.gz\n",
            "20230423 :  https://www.ngdc.noaa.gov/dscovr/data/2023/04/oe_m1m_dscovr_s20230423000000_e20230423235959_p20230424021833_pub.nc.gz\n",
            "20230424 :  https://www.ngdc.noaa.gov/dscovr/data/2023/04/oe_m1m_dscovr_s20230424000000_e20230424235959_p20230425021820_pub.nc.gz\n",
            "20230425 :  https://www.ngdc.noaa.gov/dscovr/data/2023/04/oe_m1m_dscovr_s20230425000000_e20230425235959_p20230426021843_pub.nc.gz\n",
            "20230426 :  https://www.ngdc.noaa.gov/dscovr/data/2023/04/oe_m1m_dscovr_s20230426000000_e20230426235959_p20230427021822_pub.nc.gz\n",
            "20230427 :  https://www.ngdc.noaa.gov/dscovr/data/2023/04/oe_m1m_dscovr_s20230427000000_e20230427235959_p20230428021857_pub.nc.gz\n",
            "20230428 :  https://www.ngdc.noaa.gov/dscovr/data/2023/04/oe_m1m_dscovr_s20230428000000_e20230428235959_p20230429021854_pub.nc.gz\n",
            "20230429 :  https://www.ngdc.noaa.gov/dscovr/data/2023/04/oe_m1m_dscovr_s20230429000000_e20230429235959_p20230430021921_pub.nc.gz\n",
            "20230430 :  https://www.ngdc.noaa.gov/dscovr/data/2023/04/oe_m1m_dscovr_s20230430000000_e20230430235959_p20230501021908_pub.nc.gz\n",
            "20230501 :  https://www.ngdc.noaa.gov/dscovr/data/2023/05/oe_m1m_dscovr_s20230501000000_e20230501235959_p20230502021922_pub.nc.gz\n",
            "20230502 :  https://www.ngdc.noaa.gov/dscovr/data/2023/05/oe_m1m_dscovr_s20230502000000_e20230502235959_p20230503021919_pub.nc.gz\n",
            "20230503 :  https://www.ngdc.noaa.gov/dscovr/data/2023/05/oe_m1m_dscovr_s20230503000000_e20230503235959_p20230504021825_pub.nc.gz\n",
            "20230504 :  https://www.ngdc.noaa.gov/dscovr/data/2023/05/oe_m1m_dscovr_s20230504000000_e20230504235959_p20230505021717_pub.nc.gz\n",
            "20230505 :  https://www.ngdc.noaa.gov/dscovr/data/2023/05/oe_m1m_dscovr_s20230505000000_e20230505235959_p20230506021738_pub.nc.gz\n",
            "20230506 :  https://www.ngdc.noaa.gov/dscovr/data/2023/05/oe_m1m_dscovr_s20230506000000_e20230506235959_p20230507021808_pub.nc.gz\n",
            "20230507 :  https://www.ngdc.noaa.gov/dscovr/data/2023/05/oe_m1m_dscovr_s20230507000000_e20230507235959_p20230508021731_pub.nc.gz\n",
            "20230508 :  https://www.ngdc.noaa.gov/dscovr/data/2023/05/oe_m1m_dscovr_s20230508000000_e20230508235959_p20230509021825_pub.nc.gz\n",
            "20230509 :  https://www.ngdc.noaa.gov/dscovr/data/2023/05/oe_m1m_dscovr_s20230509000000_e20230509235959_p20230510021813_pub.nc.gz\n",
            "20230510 :  https://www.ngdc.noaa.gov/dscovr/data/2023/05/oe_m1m_dscovr_s20230510000000_e20230510235959_p20230511021735_pub.nc.gz\n",
            "20230511 :  https://www.ngdc.noaa.gov/dscovr/data/2023/05/oe_m1m_dscovr_s20230511000000_e20230511235959_p20230512021808_pub.nc.gz\n",
            "20230512 :  https://www.ngdc.noaa.gov/dscovr/data/2023/05/oe_m1m_dscovr_s20230512000000_e20230512235959_p20230513021827_pub.nc.gz\n",
            "20230513 :  https://www.ngdc.noaa.gov/dscovr/data/2023/05/oe_m1m_dscovr_s20230513000000_e20230513235959_p20230514021813_pub.nc.gz\n"
          ]
        }
      ]
    },
    {
      "cell_type": "code",
      "source": [
        "l=len(urllist)"
      ],
      "metadata": {
        "id": "jJ1I_RHSb5Dr"
      },
      "execution_count": 13,
      "outputs": []
    },
    {
      "cell_type": "code",
      "source": [
        "magdata=[]"
      ],
      "metadata": {
        "id": "1x6x5kGiJ1tq"
      },
      "execution_count": 14,
      "outputs": []
    },
    {
      "cell_type": "code",
      "source": [
        "for i in range(0,l):\n",
        "  ds=xr.open_dataset('/content/'+urllist[i])\n",
        "  df=ds.to_dataframe()\n",
        "  actualdf=df.dropna()\n",
        "  df_len=len(actualdf)\n",
        "  for j in range(0,df_len,180):\n",
        "   bx_gse_hour=np.nanmean(np.array(actualdf['bx_gse'][j:j+180]))\n",
        "   by_gse_hour=np.nanmean(np.array(actualdf['by_gse'][j:j+180]))\n",
        "   bz_gse_hour=np.nanmean(np.array(actualdf['bz_gse'][j:j+180]))\n",
        "   b_gse=((bx_gse_hour)**2+(by_gse_hour)**2+(bz_gse_hour)**2)**0.5\n",
        "   if bx_gse_hour+by_gse_hour+bz_gse_hour<0:\n",
        "    magdata.append(-b_gse)\n",
        "   else:\n",
        "    magdata.append(b_gse)"
      ],
      "metadata": {
        "id": "hrC0-sh9J4V2"
      },
      "execution_count": 15,
      "outputs": []
    },
    {
      "cell_type": "code",
      "source": [
        "magdata_numpy=np.array(magdata)"
      ],
      "metadata": {
        "id": "FqFNRDUcLSy1"
      },
      "execution_count": 16,
      "outputs": []
    },
    {
      "cell_type": "code",
      "source": [
        "df=open('/content/drive/MyDrive/kp_index.txt', \"r\")\n",
        "lines = df.readlines()\n",
        "forecastdata=[]\n",
        "for index, line in enumerate(lines):\n",
        "      lines[index] = line.strip().split()\n",
        "      l=len(lines[index])\n",
        "      for i in range(l):\n",
        "        forecastdata.append(float(lines[index][i]))"
      ],
      "metadata": {
        "id": "1PLINrro884m"
      },
      "execution_count": 17,
      "outputs": []
    },
    {
      "cell_type": "code",
      "source": [
        "fnumpy=np.array(forecastdata)"
      ],
      "metadata": {
        "id": "IKR_QjxSeAgb"
      },
      "execution_count": 18,
      "outputs": []
    },
    {
      "cell_type": "code",
      "source": [
        "import joblib"
      ],
      "metadata": {
        "id": "vl-5pfxCiTtM"
      },
      "execution_count": 19,
      "outputs": []
    },
    {
      "cell_type": "code",
      "source": [
        "import warnings\n",
        "warnings.filterwarnings('ignore')"
      ],
      "metadata": {
        "id": "CXI1Cxxla7c8"
      },
      "execution_count": 20,
      "outputs": []
    },
    {
      "cell_type": "code",
      "source": [
        "from sklearn.linear_model import LinearRegression"
      ],
      "metadata": {
        "id": "cYRXlkcGczqW"
      },
      "execution_count": 21,
      "outputs": []
    },
    {
      "cell_type": "code",
      "source": [
        "regr=LinearRegression().fit(magdata_numpy.reshape(-1,1),fnumpy.reshape(-1,1))"
      ],
      "metadata": {
        "id": "klchp5FNfcDP"
      },
      "execution_count": 22,
      "outputs": []
    },
    {
      "cell_type": "code",
      "source": [
        "regr.coef_"
      ],
      "metadata": {
        "colab": {
          "base_uri": "https://localhost:8080/"
        },
        "id": "jvnLYxHAhzmy",
        "outputId": "b48d1e67-cfee-4e57-e6c0-81077fa21a05"
      },
      "execution_count": 23,
      "outputs": [
        {
          "output_type": "execute_result",
          "data": {
            "text/plain": [
              "array([[-0.06089302]])"
            ]
          },
          "metadata": {},
          "execution_count": 23
        }
      ]
    },
    {
      "cell_type": "code",
      "source": [
        "regr.intercept_"
      ],
      "metadata": {
        "colab": {
          "base_uri": "https://localhost:8080/"
        },
        "id": "MCenkroLiE2U",
        "outputId": "e26edc6e-1de1-4351-b6f0-e6b72265ebb6"
      },
      "execution_count": 24,
      "outputs": [
        {
          "output_type": "execute_result",
          "data": {
            "text/plain": [
              "array([2.42220145])"
            ]
          },
          "metadata": {},
          "execution_count": 24
        }
      ]
    },
    {
      "cell_type": "code",
      "source": [
        "lm=len(magdata)\n",
        "acc=0\n",
        "for i in range(lm):\n",
        "  predval=regr.predict(np.array([magdata[i]]).reshape(-1,1))\n",
        "  if predval-fnumpy[i]<1.2:\n",
        "    acc+=1\n",
        "print(\"Accuracy:\"+str((acc/lm)*100))"
      ],
      "metadata": {
        "colab": {
          "base_uri": "https://localhost:8080/"
        },
        "id": "gMFOI0jvM6aD",
        "outputId": "9666d3dc-b64e-4143-ef5e-67cc69b7e222"
      },
      "execution_count": 29,
      "outputs": [
        {
          "output_type": "stream",
          "name": "stdout",
          "text": [
            "Accuracy:86.25\n"
          ]
        }
      ]
    },
    {
      "cell_type": "code",
      "source": [
        "joblib.dump(regr,\"/content/drive/MyDrive/regr.pkl\")"
      ],
      "metadata": {
        "id": "-9TMWqX_iXjb"
      },
      "execution_count": null,
      "outputs": []
    }
  ]
}