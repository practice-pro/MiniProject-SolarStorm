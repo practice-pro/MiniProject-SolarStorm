{
  "nbformat": 4,
  "nbformat_minor": 0,
  "metadata": {
    "colab": {
      "provenance": []
    },
    "kernelspec": {
      "name": "python3",
      "display_name": "Python 3"
    },
    "language_info": {
      "name": "python"
    }
  },
  "cells": [
    {
      "cell_type": "code",
      "source": [
        "!pip install utils"
      ],
      "metadata": {
        "colab": {
          "base_uri": "https://localhost:8080/"
        },
        "id": "2Tr_GkDEBLZ8",
        "outputId": "99bafdaf-2585-47ae-c6d4-aa626d079c78"
      },
      "execution_count": null,
      "outputs": [
        {
          "output_type": "stream",
          "name": "stdout",
          "text": [
            "Looking in indexes: https://pypi.org/simple, https://us-python.pkg.dev/colab-wheels/public/simple/\n",
            "Collecting utils\n",
            "  Downloading utils-1.0.1-py2.py3-none-any.whl (21 kB)\n",
            "Installing collected packages: utils\n",
            "Successfully installed utils-1.0.1\n"
          ]
        }
      ]
    },
    {
      "cell_type": "code",
      "source": [
        "from google.colab import drive\n",
        "drive.mount('/content/drive')"
      ],
      "metadata": {
        "id": "oTS4zc28ngo3",
        "colab": {
          "base_uri": "https://localhost:8080/"
        },
        "outputId": "04cdc3ea-d5f2-415f-99a4-5aa676d5d6f8"
      },
      "execution_count": null,
      "outputs": [
        {
          "output_type": "stream",
          "name": "stdout",
          "text": [
            "Mounted at /content/drive\n"
          ]
        }
      ]
    },
    {
      "cell_type": "code",
      "source": [
        "!pip install wget"
      ],
      "metadata": {
        "colab": {
          "base_uri": "https://localhost:8080/"
        },
        "id": "BOZyQCHhRc3g",
        "outputId": "91cdadea-2bcd-4f08-8d18-a7bc34890064"
      },
      "execution_count": null,
      "outputs": [
        {
          "output_type": "stream",
          "name": "stdout",
          "text": [
            "Looking in indexes: https://pypi.org/simple, https://us-python.pkg.dev/colab-wheels/public/simple/\n",
            "Collecting wget\n",
            "  Downloading wget-3.2.zip (10 kB)\n",
            "  Preparing metadata (setup.py) ... \u001b[?25l\u001b[?25hdone\n",
            "Building wheels for collected packages: wget\n",
            "  Building wheel for wget (setup.py) ... \u001b[?25l\u001b[?25hdone\n",
            "  Created wheel for wget: filename=wget-3.2-py3-none-any.whl size=9657 sha256=d617ded871af704edaddecbd55275353b44480e13ceb9a888256147bfb665d6d\n",
            "  Stored in directory: /root/.cache/pip/wheels/8b/f1/7f/5c94f0a7a505ca1c81cd1d9208ae2064675d97582078e6c769\n",
            "Successfully built wget\n",
            "Installing collected packages: wget\n",
            "Successfully installed wget-3.2\n"
          ]
        }
      ]
    },
    {
      "cell_type": "code",
      "source": [
        "import requests\n",
        "import regex as re\n",
        "import wget\n",
        "import os"
      ],
      "metadata": {
        "id": "9mXL6N7MI3u3"
      },
      "execution_count": null,
      "outputs": []
    },
    {
      "cell_type": "code",
      "execution_count": null,
      "metadata": {
        "id": "qX2nN5zpzGvp"
      },
      "outputs": [],
      "source": [
        "from re import X\n",
        "import torch\n",
        "from torch.utils.data import Dataset\n",
        "from torch.utils.data import random_split\n",
        "import torch.nn as nn\n",
        "import pandas as pd\n",
        "from argparse import ArgumentParser, Namespace\n",
        "from pathlib import Path\n",
        "from typing import Dict\n",
        "from datetime import datetime\n",
        "os.environ[\"KMP_DUPLICATE_LIB_OK\"] = \"TRUE\"\n",
        "import torch.optim as optim\n",
        "from torch.utils.data import DataLoader\n",
        "from utils import *\n",
        "import numpy as np\n",
        "import xarray as xr"
      ]
    },
    {
      "cell_type": "code",
      "source": [
        "sd = datetime.datetime(2021, 1, 1).strftime(\"%Y%m%d\")\n",
        "ed = datetime.datetime(2021, 12, 31).strftime(\"%Y%m%d\")"
      ],
      "metadata": {
        "id": "kvzPrcbTI_CS"
      },
      "execution_count": null,
      "outputs": []
    },
    {
      "cell_type": "code",
      "source": [
        "ls=pd.date_range(sd,ed)"
      ],
      "metadata": {
        "id": "hc0l-U_wJLbs"
      },
      "execution_count": null,
      "outputs": []
    },
    {
      "cell_type": "code",
      "source": [
        "dates=[dt.strftime(\"%Y%m%d\") for dt in ls]"
      ],
      "metadata": {
        "id": "QMo--J7DJU1b"
      },
      "execution_count": null,
      "outputs": []
    },
    {
      "cell_type": "code",
      "source": [
        "years={date[:4] for date in dates}\n",
        "months={date[4:6] for date in dates}"
      ],
      "metadata": {
        "id": "PpdBgVAiJaG5"
      },
      "execution_count": null,
      "outputs": []
    },
    {
      "cell_type": "code",
      "source": [
        "txt=\"\"\n",
        "for year in years:\n",
        "    for month in months:\n",
        "        base='https://www.ngdc.noaa.gov/dscovr/data/'+year+'/'+month+'/'\n",
        "        txt+=requests.get(base).text"
      ],
      "metadata": {
        "id": "hV1YRqdBJeHP"
      },
      "execution_count": null,
      "outputs": []
    },
    {
      "cell_type": "code",
      "source": [
        "urllist=[]"
      ],
      "metadata": {
        "id": "Ha_qCQfyJi5N"
      },
      "execution_count": null,
      "outputs": []
    },
    {
      "cell_type": "code",
      "source": [
        "for date in dates:\n",
        "    base='https://www.ngdc.noaa.gov/dscovr/data/'+date[:4]+'/'+date[4:6]+'/'\n",
        "    x=re.search(str(\"oe_m1m_dscovr_s\"+date+\"000000_\"), txt).start()\n",
        "    url=base+txt[x: x+71]\n",
        "    print(date,\": \",url)\n",
        "    urllist.append(url[46:])\n",
        "    wget.download(url)"
      ],
      "metadata": {
        "colab": {
          "base_uri": "https://localhost:8080/"
        },
        "id": "qyE0Mi6xJl76",
        "outputId": "bb8664dd-51bf-4e8f-fde5-57e836fd9092"
      },
      "execution_count": null,
      "outputs": [
        {
          "output_type": "stream",
          "name": "stdout",
          "text": [
            "20210101 :  https://www.ngdc.noaa.gov/dscovr/data/2021/01/oe_m1m_dscovr_s20210101000000_e20210101235959_p20210102020312_pub.nc.gz\n",
            "20210102 :  https://www.ngdc.noaa.gov/dscovr/data/2021/01/oe_m1m_dscovr_s20210102000000_e20210102235959_p20210103020543_pub.nc.gz\n",
            "20210103 :  https://www.ngdc.noaa.gov/dscovr/data/2021/01/oe_m1m_dscovr_s20210103000000_e20210103235959_p20210104020454_pub.nc.gz\n",
            "20210104 :  https://www.ngdc.noaa.gov/dscovr/data/2021/01/oe_m1m_dscovr_s20210104000000_e20210104235959_p20210105020023_pub.nc.gz\n",
            "20210105 :  https://www.ngdc.noaa.gov/dscovr/data/2021/01/oe_m1m_dscovr_s20210105000000_e20210105235959_p20210106020421_pub.nc.gz\n",
            "20210106 :  https://www.ngdc.noaa.gov/dscovr/data/2021/01/oe_m1m_dscovr_s20210106000000_e20210106235959_p20210107020234_pub.nc.gz\n",
            "20210107 :  https://www.ngdc.noaa.gov/dscovr/data/2021/01/oe_m1m_dscovr_s20210107000000_e20210107235959_p20210108020412_pub.nc.gz\n",
            "20210108 :  https://www.ngdc.noaa.gov/dscovr/data/2021/01/oe_m1m_dscovr_s20210108000000_e20210108235959_p20210109020404_pub.nc.gz\n",
            "20210109 :  https://www.ngdc.noaa.gov/dscovr/data/2021/01/oe_m1m_dscovr_s20210109000000_e20210109235959_p20210110020445_pub.nc.gz\n",
            "20210110 :  https://www.ngdc.noaa.gov/dscovr/data/2021/01/oe_m1m_dscovr_s20210110000000_e20210110235959_p20210111020455_pub.nc.gz\n",
            "20210111 :  https://www.ngdc.noaa.gov/dscovr/data/2021/01/oe_m1m_dscovr_s20210111000000_e20210111235959_p20210112020426_pub.nc.gz\n",
            "20210112 :  https://www.ngdc.noaa.gov/dscovr/data/2021/01/oe_m1m_dscovr_s20210112000000_e20210112235959_p20210113020907_pub.nc.gz\n",
            "20210113 :  https://www.ngdc.noaa.gov/dscovr/data/2021/01/oe_m1m_dscovr_s20210113000000_e20210113235959_p20210114020701_pub.nc.gz\n",
            "20210114 :  https://www.ngdc.noaa.gov/dscovr/data/2021/01/oe_m1m_dscovr_s20210114000000_e20210114235959_p20210115020700_pub.nc.gz\n",
            "20210115 :  https://www.ngdc.noaa.gov/dscovr/data/2021/01/oe_m1m_dscovr_s20210115000000_e20210115235959_p20210116020906_pub.nc.gz\n",
            "20210116 :  https://www.ngdc.noaa.gov/dscovr/data/2021/01/oe_m1m_dscovr_s20210116000000_e20210116235959_p20210117020845_pub.nc.gz\n",
            "20210117 :  https://www.ngdc.noaa.gov/dscovr/data/2021/01/oe_m1m_dscovr_s20210117000000_e20210117235959_p20210118021109_pub.nc.gz\n",
            "20210118 :  https://www.ngdc.noaa.gov/dscovr/data/2021/01/oe_m1m_dscovr_s20210118000000_e20210118235959_p20210119020846_pub.nc.gz\n",
            "20210119 :  https://www.ngdc.noaa.gov/dscovr/data/2021/01/oe_m1m_dscovr_s20210119000000_e20210119235959_p20210120021156_pub.nc.gz\n",
            "20210120 :  https://www.ngdc.noaa.gov/dscovr/data/2021/01/oe_m1m_dscovr_s20210120000000_e20210120235959_p20210121015553_pub.nc.gz\n",
            "20210121 :  https://www.ngdc.noaa.gov/dscovr/data/2021/01/oe_m1m_dscovr_s20210121000000_e20210121235959_p20210122020911_pub.nc.gz\n",
            "20210122 :  https://www.ngdc.noaa.gov/dscovr/data/2021/01/oe_m1m_dscovr_s20210122000000_e20210122235959_p20210123020943_pub.nc.gz\n",
            "20210123 :  https://www.ngdc.noaa.gov/dscovr/data/2021/01/oe_m1m_dscovr_s20210123000000_e20210123235959_p20210124020951_pub.nc.gz\n",
            "20210124 :  https://www.ngdc.noaa.gov/dscovr/data/2021/01/oe_m1m_dscovr_s20210124000000_e20210124235959_p20210125021234_pub.nc.gz\n",
            "20210125 :  https://www.ngdc.noaa.gov/dscovr/data/2021/01/oe_m1m_dscovr_s20210125000000_e20210125235959_p20210126021258_pub.nc.gz\n",
            "20210126 :  https://www.ngdc.noaa.gov/dscovr/data/2021/01/oe_m1m_dscovr_s20210126000000_e20210126235959_p20210127021111_pub.nc.gz\n",
            "20210127 :  https://www.ngdc.noaa.gov/dscovr/data/2021/01/oe_m1m_dscovr_s20210127000000_e20210127235959_p20210128021514_pub.nc.gz\n",
            "20210128 :  https://www.ngdc.noaa.gov/dscovr/data/2021/01/oe_m1m_dscovr_s20210128000000_e20210128235959_p20210129021118_pub.nc.gz\n",
            "20210129 :  https://www.ngdc.noaa.gov/dscovr/data/2021/01/oe_m1m_dscovr_s20210129000000_e20210129235959_p20210130021532_pub.nc.gz\n",
            "20210130 :  https://www.ngdc.noaa.gov/dscovr/data/2021/01/oe_m1m_dscovr_s20210130000000_e20210130235959_p20210131021451_pub.nc.gz\n",
            "20210131 :  https://www.ngdc.noaa.gov/dscovr/data/2021/01/oe_m1m_dscovr_s20210131000000_e20210131235959_p20210201021700_pub.nc.gz\n",
            "20210201 :  https://www.ngdc.noaa.gov/dscovr/data/2021/02/oe_m1m_dscovr_s20210201000000_e20210201235959_p20210202021455_pub.nc.gz\n",
            "20210202 :  https://www.ngdc.noaa.gov/dscovr/data/2021/02/oe_m1m_dscovr_s20210202000000_e20210202235959_p20210204021531_pub.nc.gz\n",
            "20210203 :  https://www.ngdc.noaa.gov/dscovr/data/2021/02/oe_m1m_dscovr_s20210203000000_e20210203235959_p20210204033647_pub.nc.gz\n",
            "20210204 :  https://www.ngdc.noaa.gov/dscovr/data/2021/02/oe_m1m_dscovr_s20210204000000_e20210204235959_p20210205021607_pub.nc.gz\n",
            "20210205 :  https://www.ngdc.noaa.gov/dscovr/data/2021/02/oe_m1m_dscovr_s20210205000000_e20210205235959_p20210206021720_pub.nc.gz\n",
            "20210206 :  https://www.ngdc.noaa.gov/dscovr/data/2021/02/oe_m1m_dscovr_s20210206000000_e20210206235959_p20210207021707_pub.nc.gz\n",
            "20210207 :  https://www.ngdc.noaa.gov/dscovr/data/2021/02/oe_m1m_dscovr_s20210207000000_e20210207235959_p20210208021827_pub.nc.gz\n",
            "20210208 :  https://www.ngdc.noaa.gov/dscovr/data/2021/02/oe_m1m_dscovr_s20210208000000_e20210208235959_p20210209021644_pub.nc.gz\n",
            "20210209 :  https://www.ngdc.noaa.gov/dscovr/data/2021/02/oe_m1m_dscovr_s20210209000000_e20210209235959_p20210210021150_pub.nc.gz\n",
            "20210210 :  https://www.ngdc.noaa.gov/dscovr/data/2021/02/oe_m1m_dscovr_s20210210000000_e20210210235959_p20210211021545_pub.nc.gz\n",
            "20210211 :  https://www.ngdc.noaa.gov/dscovr/data/2021/02/oe_m1m_dscovr_s20210211000000_e20210211235959_p20210212021631_pub.nc.gz\n",
            "20210212 :  https://www.ngdc.noaa.gov/dscovr/data/2021/02/oe_m1m_dscovr_s20210212000000_e20210212235959_p20210213021349_pub.nc.gz\n",
            "20210213 :  https://www.ngdc.noaa.gov/dscovr/data/2021/02/oe_m1m_dscovr_s20210213000000_e20210213235959_p20210214021726_pub.nc.gz\n",
            "20210214 :  https://www.ngdc.noaa.gov/dscovr/data/2021/02/oe_m1m_dscovr_s20210214000000_e20210214235959_p20210215021752_pub.nc.gz\n",
            "20210215 :  https://www.ngdc.noaa.gov/dscovr/data/2021/02/oe_m1m_dscovr_s20210215000000_e20210215235959_p20210216020957_pub.nc.gz\n",
            "20210216 :  https://www.ngdc.noaa.gov/dscovr/data/2021/02/oe_m1m_dscovr_s20210216000000_e20210216235959_p20210217021616_pub.nc.gz\n",
            "20210217 :  https://www.ngdc.noaa.gov/dscovr/data/2021/02/oe_m1m_dscovr_s20210217000000_e20210217235959_p20210218021639_pub.nc.gz\n",
            "20210218 :  https://www.ngdc.noaa.gov/dscovr/data/2021/02/oe_m1m_dscovr_s20210218000000_e20210218235959_p20210219021555_pub.nc.gz\n",
            "20210219 :  https://www.ngdc.noaa.gov/dscovr/data/2021/02/oe_m1m_dscovr_s20210219000000_e20210219235959_p20210220021625_pub.nc.gz\n",
            "20210220 :  https://www.ngdc.noaa.gov/dscovr/data/2021/02/oe_m1m_dscovr_s20210220000000_e20210220235959_p20210221021622_pub.nc.gz\n",
            "20210221 :  https://www.ngdc.noaa.gov/dscovr/data/2021/02/oe_m1m_dscovr_s20210221000000_e20210221235959_p20210222021719_pub.nc.gz\n",
            "20210222 :  https://www.ngdc.noaa.gov/dscovr/data/2021/02/oe_m1m_dscovr_s20210222000000_e20210222235959_p20210223021726_pub.nc.gz\n",
            "20210223 :  https://www.ngdc.noaa.gov/dscovr/data/2021/02/oe_m1m_dscovr_s20210223000000_e20210223235959_p20210224021705_pub.nc.gz\n",
            "20210224 :  https://www.ngdc.noaa.gov/dscovr/data/2021/02/oe_m1m_dscovr_s20210224000000_e20210224235959_p20210225021650_pub.nc.gz\n",
            "20210225 :  https://www.ngdc.noaa.gov/dscovr/data/2021/02/oe_m1m_dscovr_s20210225000000_e20210225235959_p20210226021637_pub.nc.gz\n",
            "20210226 :  https://www.ngdc.noaa.gov/dscovr/data/2021/02/oe_m1m_dscovr_s20210226000000_e20210226235959_p20210227021606_pub.nc.gz\n",
            "20210227 :  https://www.ngdc.noaa.gov/dscovr/data/2021/02/oe_m1m_dscovr_s20210227000000_e20210227235959_p20210228021623_pub.nc.gz\n",
            "20210228 :  https://www.ngdc.noaa.gov/dscovr/data/2021/02/oe_m1m_dscovr_s20210228000000_e20210228235959_p20210301021726_pub.nc.gz\n",
            "20210301 :  https://www.ngdc.noaa.gov/dscovr/data/2021/03/oe_m1m_dscovr_s20210301000000_e20210301235959_p20210302021644_pub.nc.gz\n",
            "20210302 :  https://www.ngdc.noaa.gov/dscovr/data/2021/03/oe_m1m_dscovr_s20210302000000_e20210302235959_p20210303021647_pub.nc.gz\n",
            "20210303 :  https://www.ngdc.noaa.gov/dscovr/data/2021/03/oe_m1m_dscovr_s20210303000000_e20210303235959_p20210304021631_pub.nc.gz\n",
            "20210304 :  https://www.ngdc.noaa.gov/dscovr/data/2021/03/oe_m1m_dscovr_s20210304000000_e20210304235959_p20210305021603_pub.nc.gz\n",
            "20210305 :  https://www.ngdc.noaa.gov/dscovr/data/2021/03/oe_m1m_dscovr_s20210305000000_e20210305235959_p20210306021750_pub.nc.gz\n",
            "20210306 :  https://www.ngdc.noaa.gov/dscovr/data/2021/03/oe_m1m_dscovr_s20210306000000_e20210306235959_p20210307021733_pub.nc.gz\n",
            "20210307 :  https://www.ngdc.noaa.gov/dscovr/data/2021/03/oe_m1m_dscovr_s20210307000000_e20210307235959_p20210308021817_pub.nc.gz\n",
            "20210308 :  https://www.ngdc.noaa.gov/dscovr/data/2021/03/oe_m1m_dscovr_s20210308000000_e20210308235959_p20210309021739_pub.nc.gz\n",
            "20210309 :  https://www.ngdc.noaa.gov/dscovr/data/2021/03/oe_m1m_dscovr_s20210309000000_e20210309235959_p20210310021733_pub.nc.gz\n",
            "20210310 :  https://www.ngdc.noaa.gov/dscovr/data/2021/03/oe_m1m_dscovr_s20210310000000_e20210310235959_p20210311021657_pub.nc.gz\n",
            "20210311 :  https://www.ngdc.noaa.gov/dscovr/data/2021/03/oe_m1m_dscovr_s20210311000000_e20210311235959_p20210312021638_pub.nc.gz\n",
            "20210312 :  https://www.ngdc.noaa.gov/dscovr/data/2021/03/oe_m1m_dscovr_s20210312000000_e20210312235959_p20210313021530_pub.nc.gz\n",
            "20210313 :  https://www.ngdc.noaa.gov/dscovr/data/2021/03/oe_m1m_dscovr_s20210313000000_e20210313235959_p20210314021642_pub.nc.gz\n",
            "20210314 :  https://www.ngdc.noaa.gov/dscovr/data/2021/03/oe_m1m_dscovr_s20210314000000_e20210314235959_p20210315021725_pub.nc.gz\n",
            "20210315 :  https://www.ngdc.noaa.gov/dscovr/data/2021/03/oe_m1m_dscovr_s20210315000000_e20210315235959_p20210316021647_pub.nc.gz\n",
            "20210316 :  https://www.ngdc.noaa.gov/dscovr/data/2021/03/oe_m1m_dscovr_s20210316000000_e20210316235959_p20210317021637_pub.nc.gz\n",
            "20210317 :  https://www.ngdc.noaa.gov/dscovr/data/2021/03/oe_m1m_dscovr_s20210317000000_e20210317235959_p20210318021650_pub.nc.gz\n",
            "20210318 :  https://www.ngdc.noaa.gov/dscovr/data/2021/03/oe_m1m_dscovr_s20210318000000_e20210318235959_p20210319021715_pub.nc.gz\n",
            "20210319 :  https://www.ngdc.noaa.gov/dscovr/data/2021/03/oe_m1m_dscovr_s20210319000000_e20210319235959_p20210320021737_pub.nc.gz\n",
            "20210320 :  https://www.ngdc.noaa.gov/dscovr/data/2021/03/oe_m1m_dscovr_s20210320000000_e20210320235959_p20210321021634_pub.nc.gz\n",
            "20210321 :  https://www.ngdc.noaa.gov/dscovr/data/2021/03/oe_m1m_dscovr_s20210321000000_e20210321235959_p20210322021807_pub.nc.gz\n",
            "20210322 :  https://www.ngdc.noaa.gov/dscovr/data/2021/03/oe_m1m_dscovr_s20210322000000_e20210322235959_p20210323021326_pub.nc.gz\n",
            "20210323 :  https://www.ngdc.noaa.gov/dscovr/data/2021/03/oe_m1m_dscovr_s20210323000000_e20210323235959_p20210324021647_pub.nc.gz\n",
            "20210324 :  https://www.ngdc.noaa.gov/dscovr/data/2021/03/oe_m1m_dscovr_s20210324000000_e20210324235959_p20210325021705_pub.nc.gz\n",
            "20210325 :  https://www.ngdc.noaa.gov/dscovr/data/2021/03/oe_m1m_dscovr_s20210325000000_e20210325235959_p20210326021644_pub.nc.gz\n",
            "20210326 :  https://www.ngdc.noaa.gov/dscovr/data/2021/03/oe_m1m_dscovr_s20210326000000_e20210326235959_p20210327021628_pub.nc.gz\n",
            "20210327 :  https://www.ngdc.noaa.gov/dscovr/data/2021/03/oe_m1m_dscovr_s20210327000000_e20210327235959_p20210328021641_pub.nc.gz\n",
            "20210328 :  https://www.ngdc.noaa.gov/dscovr/data/2021/03/oe_m1m_dscovr_s20210328000000_e20210328235959_p20210329021741_pub.nc.gz\n",
            "20210329 :  https://www.ngdc.noaa.gov/dscovr/data/2021/03/oe_m1m_dscovr_s20210329000000_e20210329235959_p20210330021643_pub.nc.gz\n",
            "20210330 :  https://www.ngdc.noaa.gov/dscovr/data/2021/03/oe_m1m_dscovr_s20210330000000_e20210330235959_p20210331021645_pub.nc.gz\n",
            "20210331 :  https://www.ngdc.noaa.gov/dscovr/data/2021/03/oe_m1m_dscovr_s20210331000000_e20210331235959_p20210401021726_pub.nc.gz\n",
            "20210401 :  https://www.ngdc.noaa.gov/dscovr/data/2021/04/oe_m1m_dscovr_s20210401000000_e20210401235959_p20210402021708_pub.nc.gz\n",
            "20210402 :  https://www.ngdc.noaa.gov/dscovr/data/2021/04/oe_m1m_dscovr_s20210402000000_e20210402235959_p20210403021659_pub.nc.gz\n",
            "20210403 :  https://www.ngdc.noaa.gov/dscovr/data/2021/04/oe_m1m_dscovr_s20210403000000_e20210403235959_p20210404021643_pub.nc.gz\n",
            "20210404 :  https://www.ngdc.noaa.gov/dscovr/data/2021/04/oe_m1m_dscovr_s20210404000000_e20210404235959_p20210405021719_pub.nc.gz\n",
            "20210405 :  https://www.ngdc.noaa.gov/dscovr/data/2021/04/oe_m1m_dscovr_s20210405000000_e20210405235959_p20210406021723_pub.nc.gz\n",
            "20210406 :  https://www.ngdc.noaa.gov/dscovr/data/2021/04/oe_m1m_dscovr_s20210406000000_e20210406235959_p20210407021401_pub.nc.gz\n",
            "20210407 :  https://www.ngdc.noaa.gov/dscovr/data/2021/04/oe_m1m_dscovr_s20210407000000_e20210407235959_p20210408021856_pub.nc.gz\n",
            "20210408 :  https://www.ngdc.noaa.gov/dscovr/data/2021/04/oe_m1m_dscovr_s20210408000000_e20210408235959_p20210409021657_pub.nc.gz\n",
            "20210409 :  https://www.ngdc.noaa.gov/dscovr/data/2021/04/oe_m1m_dscovr_s20210409000000_e20210409235959_p20210410021703_pub.nc.gz\n",
            "20210410 :  https://www.ngdc.noaa.gov/dscovr/data/2021/04/oe_m1m_dscovr_s20210410000000_e20210410235959_p20210411021700_pub.nc.gz\n",
            "20210411 :  https://www.ngdc.noaa.gov/dscovr/data/2021/04/oe_m1m_dscovr_s20210411000000_e20210411235959_p20210412021734_pub.nc.gz\n",
            "20210412 :  https://www.ngdc.noaa.gov/dscovr/data/2021/04/oe_m1m_dscovr_s20210412000000_e20210412235959_p20210413015828_pub.nc.gz\n",
            "20210413 :  https://www.ngdc.noaa.gov/dscovr/data/2021/04/oe_m1m_dscovr_s20210413000000_e20210413235959_p20210414021649_pub.nc.gz\n",
            "20210414 :  https://www.ngdc.noaa.gov/dscovr/data/2021/04/oe_m1m_dscovr_s20210414000000_e20210414235959_p20210415021741_pub.nc.gz\n",
            "20210415 :  https://www.ngdc.noaa.gov/dscovr/data/2021/04/oe_m1m_dscovr_s20210415000000_e20210415235959_p20210416021636_pub.nc.gz\n",
            "20210416 :  https://www.ngdc.noaa.gov/dscovr/data/2021/04/oe_m1m_dscovr_s20210416000000_e20210416235959_p20210417021650_pub.nc.gz\n",
            "20210417 :  https://www.ngdc.noaa.gov/dscovr/data/2021/04/oe_m1m_dscovr_s20210417000000_e20210417235959_p20210418021713_pub.nc.gz\n",
            "20210418 :  https://www.ngdc.noaa.gov/dscovr/data/2021/04/oe_m1m_dscovr_s20210418000000_e20210418235959_p20210419021649_pub.nc.gz\n",
            "20210419 :  https://www.ngdc.noaa.gov/dscovr/data/2021/04/oe_m1m_dscovr_s20210419000000_e20210419235959_p20210420021649_pub.nc.gz\n",
            "20210420 :  https://www.ngdc.noaa.gov/dscovr/data/2021/04/oe_m1m_dscovr_s20210420000000_e20210420235959_p20210421021731_pub.nc.gz\n",
            "20210421 :  https://www.ngdc.noaa.gov/dscovr/data/2021/04/oe_m1m_dscovr_s20210421000000_e20210421235959_p20210422021731_pub.nc.gz\n",
            "20210422 :  https://www.ngdc.noaa.gov/dscovr/data/2021/04/oe_m1m_dscovr_s20210422000000_e20210422235959_p20210423021656_pub.nc.gz\n",
            "20210423 :  https://www.ngdc.noaa.gov/dscovr/data/2021/04/oe_m1m_dscovr_s20210423000000_e20210423235959_p20210424021703_pub.nc.gz\n",
            "20210424 :  https://www.ngdc.noaa.gov/dscovr/data/2021/04/oe_m1m_dscovr_s20210424000000_e20210424235959_p20210425021648_pub.nc.gz\n",
            "20210425 :  https://www.ngdc.noaa.gov/dscovr/data/2021/04/oe_m1m_dscovr_s20210425000000_e20210425235959_p20210426021658_pub.nc.gz\n",
            "20210426 :  https://www.ngdc.noaa.gov/dscovr/data/2021/04/oe_m1m_dscovr_s20210426000000_e20210426235959_p20210427021644_pub.nc.gz\n",
            "20210427 :  https://www.ngdc.noaa.gov/dscovr/data/2021/04/oe_m1m_dscovr_s20210427000000_e20210427235959_p20210428021704_pub.nc.gz\n",
            "20210428 :  https://www.ngdc.noaa.gov/dscovr/data/2021/04/oe_m1m_dscovr_s20210428000000_e20210428235959_p20210429021811_pub.nc.gz\n",
            "20210429 :  https://www.ngdc.noaa.gov/dscovr/data/2021/04/oe_m1m_dscovr_s20210429000000_e20210429235959_p20210430021652_pub.nc.gz\n",
            "20210430 :  https://www.ngdc.noaa.gov/dscovr/data/2021/04/oe_m1m_dscovr_s20210430000000_e20210430235959_p20210501021805_pub.nc.gz\n",
            "20210501 :  https://www.ngdc.noaa.gov/dscovr/data/2021/05/oe_m1m_dscovr_s20210501000000_e20210501235959_p20210502021736_pub.nc.gz\n",
            "20210502 :  https://www.ngdc.noaa.gov/dscovr/data/2021/05/oe_m1m_dscovr_s20210502000000_e20210502235959_p20210503021658_pub.nc.gz\n",
            "20210503 :  https://www.ngdc.noaa.gov/dscovr/data/2021/05/oe_m1m_dscovr_s20210503000000_e20210503235959_p20210504021658_pub.nc.gz\n",
            "20210504 :  https://www.ngdc.noaa.gov/dscovr/data/2021/05/oe_m1m_dscovr_s20210504000000_e20210504235959_p20210505021659_pub.nc.gz\n",
            "20210505 :  https://www.ngdc.noaa.gov/dscovr/data/2021/05/oe_m1m_dscovr_s20210505000000_e20210505235959_p20210506021646_pub.nc.gz\n",
            "20210506 :  https://www.ngdc.noaa.gov/dscovr/data/2021/05/oe_m1m_dscovr_s20210506000000_e20210506235959_p20210507021722_pub.nc.gz\n",
            "20210507 :  https://www.ngdc.noaa.gov/dscovr/data/2021/05/oe_m1m_dscovr_s20210507000000_e20210507235959_p20210508021727_pub.nc.gz\n",
            "20210508 :  https://www.ngdc.noaa.gov/dscovr/data/2021/05/oe_m1m_dscovr_s20210508000000_e20210508235959_p20210509021653_pub.nc.gz\n",
            "20210509 :  https://www.ngdc.noaa.gov/dscovr/data/2021/05/oe_m1m_dscovr_s20210509000000_e20210509235959_p20210510021657_pub.nc.gz\n",
            "20210510 :  https://www.ngdc.noaa.gov/dscovr/data/2021/05/oe_m1m_dscovr_s20210510000000_e20210510235959_p20210511021426_pub.nc.gz\n",
            "20210511 :  https://www.ngdc.noaa.gov/dscovr/data/2021/05/oe_m1m_dscovr_s20210511000000_e20210511235959_p20210512021643_pub.nc.gz\n",
            "20210512 :  https://www.ngdc.noaa.gov/dscovr/data/2021/05/oe_m1m_dscovr_s20210512000000_e20210512235959_p20210513021642_pub.nc.gz\n",
            "20210513 :  https://www.ngdc.noaa.gov/dscovr/data/2021/05/oe_m1m_dscovr_s20210513000000_e20210513235959_p20210514021705_pub.nc.gz\n",
            "20210514 :  https://www.ngdc.noaa.gov/dscovr/data/2021/05/oe_m1m_dscovr_s20210514000000_e20210514235959_p20210515021735_pub.nc.gz\n",
            "20210515 :  https://www.ngdc.noaa.gov/dscovr/data/2021/05/oe_m1m_dscovr_s20210515000000_e20210515235959_p20210516021700_pub.nc.gz\n",
            "20210516 :  https://www.ngdc.noaa.gov/dscovr/data/2021/05/oe_m1m_dscovr_s20210516000000_e20210516235959_p20210517021648_pub.nc.gz\n",
            "20210517 :  https://www.ngdc.noaa.gov/dscovr/data/2021/05/oe_m1m_dscovr_s20210517000000_e20210517235959_p20210518021644_pub.nc.gz\n",
            "20210518 :  https://www.ngdc.noaa.gov/dscovr/data/2021/05/oe_m1m_dscovr_s20210518000000_e20210518235959_p20210519021709_pub.nc.gz\n",
            "20210519 :  https://www.ngdc.noaa.gov/dscovr/data/2021/05/oe_m1m_dscovr_s20210519000000_e20210519235959_p20210520021707_pub.nc.gz\n",
            "20210520 :  https://www.ngdc.noaa.gov/dscovr/data/2021/05/oe_m1m_dscovr_s20210520000000_e20210520235959_p20210521021734_pub.nc.gz\n",
            "20210521 :  https://www.ngdc.noaa.gov/dscovr/data/2021/05/oe_m1m_dscovr_s20210521000000_e20210521235959_p20210523021721_pub.nc.gz\n",
            "20210522 :  https://www.ngdc.noaa.gov/dscovr/data/2021/05/oe_m1m_dscovr_s20210522000000_e20210522235959_p20210523034123_pub.nc.gz\n",
            "20210523 :  https://www.ngdc.noaa.gov/dscovr/data/2021/05/oe_m1m_dscovr_s20210523000000_e20210523235959_p20210524021707_pub.nc.gz\n",
            "20210524 :  https://www.ngdc.noaa.gov/dscovr/data/2021/05/oe_m1m_dscovr_s20210524000000_e20210524235959_p20210525021701_pub.nc.gz\n",
            "20210525 :  https://www.ngdc.noaa.gov/dscovr/data/2021/05/oe_m1m_dscovr_s20210525000000_e20210525235959_p20210526021705_pub.nc.gz\n",
            "20210526 :  https://www.ngdc.noaa.gov/dscovr/data/2021/05/oe_m1m_dscovr_s20210526000000_e20210526235959_p20210527021612_pub.nc.gz\n",
            "20210527 :  https://www.ngdc.noaa.gov/dscovr/data/2021/05/oe_m1m_dscovr_s20210527000000_e20210527235959_p20210528021613_pub.nc.gz\n",
            "20210528 :  https://www.ngdc.noaa.gov/dscovr/data/2021/05/oe_m1m_dscovr_s20210528000000_e20210528235959_p20210529021719_pub.nc.gz\n",
            "20210529 :  https://www.ngdc.noaa.gov/dscovr/data/2021/05/oe_m1m_dscovr_s20210529000000_e20210529235959_p20210530021638_pub.nc.gz\n",
            "20210530 :  https://www.ngdc.noaa.gov/dscovr/data/2021/05/oe_m1m_dscovr_s20210530000000_e20210530235959_p20210531021631_pub.nc.gz\n",
            "20210531 :  https://www.ngdc.noaa.gov/dscovr/data/2021/05/oe_m1m_dscovr_s20210531000000_e20210531235959_p20210601021724_pub.nc.gz\n",
            "20210601 :  https://www.ngdc.noaa.gov/dscovr/data/2021/06/oe_m1m_dscovr_s20210601000000_e20210601235959_p20210602021621_pub.nc.gz\n",
            "20210602 :  https://www.ngdc.noaa.gov/dscovr/data/2021/06/oe_m1m_dscovr_s20210602000000_e20210602235959_p20210603021642_pub.nc.gz\n",
            "20210603 :  https://www.ngdc.noaa.gov/dscovr/data/2021/06/oe_m1m_dscovr_s20210603000000_e20210603235959_p20210604021234_pub.nc.gz\n",
            "20210604 :  https://www.ngdc.noaa.gov/dscovr/data/2021/06/oe_m1m_dscovr_s20210604000000_e20210604235959_p20210605021230_pub.nc.gz\n",
            "20210605 :  https://www.ngdc.noaa.gov/dscovr/data/2021/06/oe_m1m_dscovr_s20210605000000_e20210605235959_p20210606021321_pub.nc.gz\n",
            "20210606 :  https://www.ngdc.noaa.gov/dscovr/data/2021/06/oe_m1m_dscovr_s20210606000000_e20210606235959_p20210607021244_pub.nc.gz\n",
            "20210607 :  https://www.ngdc.noaa.gov/dscovr/data/2021/06/oe_m1m_dscovr_s20210607000000_e20210607235959_p20210608021326_pub.nc.gz\n",
            "20210608 :  https://www.ngdc.noaa.gov/dscovr/data/2021/06/oe_m1m_dscovr_s20210608000000_e20210608235959_p20210609021256_pub.nc.gz\n",
            "20210609 :  https://www.ngdc.noaa.gov/dscovr/data/2021/06/oe_m1m_dscovr_s20210609000000_e20210609235959_p20210610021254_pub.nc.gz\n",
            "20210610 :  https://www.ngdc.noaa.gov/dscovr/data/2021/06/oe_m1m_dscovr_s20210610000000_e20210610235959_p20210611021252_pub.nc.gz\n",
            "20210611 :  https://www.ngdc.noaa.gov/dscovr/data/2021/06/oe_m1m_dscovr_s20210611000000_e20210611235959_p20210612021250_pub.nc.gz\n",
            "20210612 :  https://www.ngdc.noaa.gov/dscovr/data/2021/06/oe_m1m_dscovr_s20210612000000_e20210612235959_p20210613021249_pub.nc.gz\n",
            "20210613 :  https://www.ngdc.noaa.gov/dscovr/data/2021/06/oe_m1m_dscovr_s20210613000000_e20210613235959_p20210614021256_pub.nc.gz\n",
            "20210614 :  https://www.ngdc.noaa.gov/dscovr/data/2021/06/oe_m1m_dscovr_s20210614000000_e20210614235959_p20210615021259_pub.nc.gz\n",
            "20210615 :  https://www.ngdc.noaa.gov/dscovr/data/2021/06/oe_m1m_dscovr_s20210615000000_e20210615235959_p20210616021241_pub.nc.gz\n",
            "20210616 :  https://www.ngdc.noaa.gov/dscovr/data/2021/06/oe_m1m_dscovr_s20210616000000_e20210616235959_p20210617021248_pub.nc.gz\n",
            "20210617 :  https://www.ngdc.noaa.gov/dscovr/data/2021/06/oe_m1m_dscovr_s20210617000000_e20210617235959_p20210618021256_pub.nc.gz\n",
            "20210618 :  https://www.ngdc.noaa.gov/dscovr/data/2021/06/oe_m1m_dscovr_s20210618000000_e20210618235959_p20210619021301_pub.nc.gz\n",
            "20210619 :  https://www.ngdc.noaa.gov/dscovr/data/2021/06/oe_m1m_dscovr_s20210619000000_e20210619235959_p20210620021305_pub.nc.gz\n",
            "20210620 :  https://www.ngdc.noaa.gov/dscovr/data/2021/06/oe_m1m_dscovr_s20210620000000_e20210620235959_p20210621021305_pub.nc.gz\n",
            "20210621 :  https://www.ngdc.noaa.gov/dscovr/data/2021/06/oe_m1m_dscovr_s20210621000000_e20210621235959_p20210622021333_pub.nc.gz\n",
            "20210622 :  https://www.ngdc.noaa.gov/dscovr/data/2021/06/oe_m1m_dscovr_s20210622000000_e20210622235959_p20210623022157_pub.nc.gz\n",
            "20210623 :  https://www.ngdc.noaa.gov/dscovr/data/2021/06/oe_m1m_dscovr_s20210623000000_e20210623235959_p20210624022241_pub.nc.gz\n",
            "20210624 :  https://www.ngdc.noaa.gov/dscovr/data/2021/06/oe_m1m_dscovr_s20210624000000_e20210624235959_p20210625022229_pub.nc.gz\n",
            "20210625 :  https://www.ngdc.noaa.gov/dscovr/data/2021/06/oe_m1m_dscovr_s20210625000000_e20210625235959_p20210627022244_pub.nc.gz\n",
            "20210626 :  https://www.ngdc.noaa.gov/dscovr/data/2021/06/oe_m1m_dscovr_s20210626000000_e20210626235959_p20210627035221_pub.nc.gz\n",
            "20210627 :  https://www.ngdc.noaa.gov/dscovr/data/2021/06/oe_m1m_dscovr_s20210627000000_e20210627235959_p20210628022248_pub.nc.gz\n",
            "20210628 :  https://www.ngdc.noaa.gov/dscovr/data/2021/06/oe_m1m_dscovr_s20210628000000_e20210628235959_p20210629022855_pub.nc.gz\n",
            "20210629 :  https://www.ngdc.noaa.gov/dscovr/data/2021/06/oe_m1m_dscovr_s20210629000000_e20210629235959_p20210630022224_pub.nc.gz\n",
            "20210630 :  https://www.ngdc.noaa.gov/dscovr/data/2021/06/oe_m1m_dscovr_s20210630000000_e20210630235959_p20210701022213_pub.nc.gz\n",
            "20210701 :  https://www.ngdc.noaa.gov/dscovr/data/2021/07/oe_m1m_dscovr_s20210701000000_e20210701235959_p20210702022150_pub.nc.gz\n",
            "20210702 :  https://www.ngdc.noaa.gov/dscovr/data/2021/07/oe_m1m_dscovr_s20210702000000_e20210702235959_p20210703022157_pub.nc.gz\n",
            "20210703 :  https://www.ngdc.noaa.gov/dscovr/data/2021/07/oe_m1m_dscovr_s20210703000000_e20210703235959_p20210704022153_pub.nc.gz\n",
            "20210704 :  https://www.ngdc.noaa.gov/dscovr/data/2021/07/oe_m1m_dscovr_s20210704000000_e20210704235959_p20210705022148_pub.nc.gz\n",
            "20210705 :  https://www.ngdc.noaa.gov/dscovr/data/2021/07/oe_m1m_dscovr_s20210705000000_e20210705235959_p20210706022155_pub.nc.gz\n",
            "20210706 :  https://www.ngdc.noaa.gov/dscovr/data/2021/07/oe_m1m_dscovr_s20210706000000_e20210706235959_p20210707022247_pub.nc.gz\n",
            "20210707 :  https://www.ngdc.noaa.gov/dscovr/data/2021/07/oe_m1m_dscovr_s20210707000000_e20210707235959_p20210708022223_pub.nc.gz\n",
            "20210708 :  https://www.ngdc.noaa.gov/dscovr/data/2021/07/oe_m1m_dscovr_s20210708000000_e20210708235959_p20210709022259_pub.nc.gz\n",
            "20210709 :  https://www.ngdc.noaa.gov/dscovr/data/2021/07/oe_m1m_dscovr_s20210709000000_e20210709235959_p20210710022301_pub.nc.gz\n",
            "20210710 :  https://www.ngdc.noaa.gov/dscovr/data/2021/07/oe_m1m_dscovr_s20210710000000_e20210710235959_p20210711022301_pub.nc.gz\n",
            "20210711 :  https://www.ngdc.noaa.gov/dscovr/data/2021/07/oe_m1m_dscovr_s20210711000000_e20210711235959_p20210712022258_pub.nc.gz\n",
            "20210712 :  https://www.ngdc.noaa.gov/dscovr/data/2021/07/oe_m1m_dscovr_s20210712000000_e20210712235959_p20210713022303_pub.nc.gz\n",
            "20210713 :  https://www.ngdc.noaa.gov/dscovr/data/2021/07/oe_m1m_dscovr_s20210713000000_e20210713235959_p20210714022255_pub.nc.gz\n",
            "20210714 :  https://www.ngdc.noaa.gov/dscovr/data/2021/07/oe_m1m_dscovr_s20210714000000_e20210714235959_p20210715022225_pub.nc.gz\n",
            "20210715 :  https://www.ngdc.noaa.gov/dscovr/data/2021/07/oe_m1m_dscovr_s20210715000000_e20210715235959_p20210716022308_pub.nc.gz\n",
            "20210716 :  https://www.ngdc.noaa.gov/dscovr/data/2021/07/oe_m1m_dscovr_s20210716000000_e20210716235959_p20210717022246_pub.nc.gz\n",
            "20210717 :  https://www.ngdc.noaa.gov/dscovr/data/2021/07/oe_m1m_dscovr_s20210717000000_e20210717235959_p20210718022308_pub.nc.gz\n",
            "20210718 :  https://www.ngdc.noaa.gov/dscovr/data/2021/07/oe_m1m_dscovr_s20210718000000_e20210718235959_p20210720022258_pub.nc.gz\n",
            "20210719 :  https://www.ngdc.noaa.gov/dscovr/data/2021/07/oe_m1m_dscovr_s20210719000000_e20210719235959_p20210720035303_pub.nc.gz\n",
            "20210720 :  https://www.ngdc.noaa.gov/dscovr/data/2021/07/oe_m1m_dscovr_s20210720000000_e20210720235959_p20210721013343_pub.nc.gz\n",
            "20210721 :  https://www.ngdc.noaa.gov/dscovr/data/2021/07/oe_m1m_dscovr_s20210721000000_e20210721235959_p20210723013302_pub.nc.gz\n",
            "20210722 :  https://www.ngdc.noaa.gov/dscovr/data/2021/07/oe_m1m_dscovr_s20210722000000_e20210722235959_p20210723030206_pub.nc.gz\n",
            "20210723 :  https://www.ngdc.noaa.gov/dscovr/data/2021/07/oe_m1m_dscovr_s20210723000000_e20210723235959_p20210724022253_pub.nc.gz\n",
            "20210724 :  https://www.ngdc.noaa.gov/dscovr/data/2021/07/oe_m1m_dscovr_s20210724000000_e20210724235959_p20210725022242_pub.nc.gz\n",
            "20210725 :  https://www.ngdc.noaa.gov/dscovr/data/2021/07/oe_m1m_dscovr_s20210725000000_e20210725235959_p20210726022310_pub.nc.gz\n",
            "20210726 :  https://www.ngdc.noaa.gov/dscovr/data/2021/07/oe_m1m_dscovr_s20210726000000_e20210726235959_p20210727022252_pub.nc.gz\n",
            "20210727 :  https://www.ngdc.noaa.gov/dscovr/data/2021/07/oe_m1m_dscovr_s20210727000000_e20210727235959_p20210728022240_pub.nc.gz\n",
            "20210728 :  https://www.ngdc.noaa.gov/dscovr/data/2021/07/oe_m1m_dscovr_s20210728000000_e20210728235959_p20210729022216_pub.nc.gz\n",
            "20210729 :  https://www.ngdc.noaa.gov/dscovr/data/2021/07/oe_m1m_dscovr_s20210729000000_e20210729235959_p20210730022306_pub.nc.gz\n",
            "20210730 :  https://www.ngdc.noaa.gov/dscovr/data/2021/07/oe_m1m_dscovr_s20210730000000_e20210730235959_p20210731022300_pub.nc.gz\n",
            "20210731 :  https://www.ngdc.noaa.gov/dscovr/data/2021/07/oe_m1m_dscovr_s20210731000000_e20210731235959_p20210801022229_pub.nc.gz\n",
            "20210801 :  https://www.ngdc.noaa.gov/dscovr/data/2021/08/oe_m1m_dscovr_s20210801000000_e20210801235959_p20210802022325_pub.nc.gz\n",
            "20210802 :  https://www.ngdc.noaa.gov/dscovr/data/2021/08/oe_m1m_dscovr_s20210802000000_e20210802235959_p20210803022313_pub.nc.gz\n",
            "20210803 :  https://www.ngdc.noaa.gov/dscovr/data/2021/08/oe_m1m_dscovr_s20210803000000_e20210803235959_p20210805021649_pub.nc.gz\n",
            "20210804 :  https://www.ngdc.noaa.gov/dscovr/data/2021/08/oe_m1m_dscovr_s20210804000000_e20210804235959_p20210805032650_pub.nc.gz\n",
            "20210805 :  https://www.ngdc.noaa.gov/dscovr/data/2021/08/oe_m1m_dscovr_s20210805000000_e20210805235959_p20210806021701_pub.nc.gz\n",
            "20210806 :  https://www.ngdc.noaa.gov/dscovr/data/2021/08/oe_m1m_dscovr_s20210806000000_e20210806235959_p20210807021642_pub.nc.gz\n",
            "20210807 :  https://www.ngdc.noaa.gov/dscovr/data/2021/08/oe_m1m_dscovr_s20210807000000_e20210807235959_p20210808021717_pub.nc.gz\n",
            "20210808 :  https://www.ngdc.noaa.gov/dscovr/data/2021/08/oe_m1m_dscovr_s20210808000000_e20210808235959_p20210809021650_pub.nc.gz\n",
            "20210809 :  https://www.ngdc.noaa.gov/dscovr/data/2021/08/oe_m1m_dscovr_s20210809000000_e20210809235959_p20210810021220_pub.nc.gz\n",
            "20210810 :  https://www.ngdc.noaa.gov/dscovr/data/2021/08/oe_m1m_dscovr_s20210810000000_e20210810235959_p20210811021428_pub.nc.gz\n",
            "20210811 :  https://www.ngdc.noaa.gov/dscovr/data/2021/08/oe_m1m_dscovr_s20210811000000_e20210811235959_p20210812021703_pub.nc.gz\n",
            "20210812 :  https://www.ngdc.noaa.gov/dscovr/data/2021/08/oe_m1m_dscovr_s20210812000000_e20210812235959_p20210813021658_pub.nc.gz\n",
            "20210813 :  https://www.ngdc.noaa.gov/dscovr/data/2021/08/oe_m1m_dscovr_s20210813000000_e20210813235959_p20210814021657_pub.nc.gz\n",
            "20210814 :  https://www.ngdc.noaa.gov/dscovr/data/2021/08/oe_m1m_dscovr_s20210814000000_e20210814235959_p20210815021722_pub.nc.gz\n",
            "20210815 :  https://www.ngdc.noaa.gov/dscovr/data/2021/08/oe_m1m_dscovr_s20210815000000_e20210815235959_p20210816021703_pub.nc.gz\n",
            "20210816 :  https://www.ngdc.noaa.gov/dscovr/data/2021/08/oe_m1m_dscovr_s20210816000000_e20210816235959_p20210817021630_pub.nc.gz\n",
            "20210817 :  https://www.ngdc.noaa.gov/dscovr/data/2021/08/oe_m1m_dscovr_s20210817000000_e20210817235959_p20210818021651_pub.nc.gz\n",
            "20210818 :  https://www.ngdc.noaa.gov/dscovr/data/2021/08/oe_m1m_dscovr_s20210818000000_e20210818235959_p20210819021647_pub.nc.gz\n",
            "20210819 :  https://www.ngdc.noaa.gov/dscovr/data/2021/08/oe_m1m_dscovr_s20210819000000_e20210819235959_p20210820021632_pub.nc.gz\n",
            "20210820 :  https://www.ngdc.noaa.gov/dscovr/data/2021/08/oe_m1m_dscovr_s20210820000000_e20210820235959_p20210821021645_pub.nc.gz\n",
            "20210821 :  https://www.ngdc.noaa.gov/dscovr/data/2021/08/oe_m1m_dscovr_s20210821000000_e20210821235959_p20210822021650_pub.nc.gz\n",
            "20210822 :  https://www.ngdc.noaa.gov/dscovr/data/2021/08/oe_m1m_dscovr_s20210822000000_e20210822235959_p20210823021652_pub.nc.gz\n",
            "20210823 :  https://www.ngdc.noaa.gov/dscovr/data/2021/08/oe_m1m_dscovr_s20210823000000_e20210823235959_p20210824021619_pub.nc.gz\n",
            "20210824 :  https://www.ngdc.noaa.gov/dscovr/data/2021/08/oe_m1m_dscovr_s20210824000000_e20210824235959_p20210825021659_pub.nc.gz\n",
            "20210825 :  https://www.ngdc.noaa.gov/dscovr/data/2021/08/oe_m1m_dscovr_s20210825000000_e20210825235959_p20210826021701_pub.nc.gz\n",
            "20210826 :  https://www.ngdc.noaa.gov/dscovr/data/2021/08/oe_m1m_dscovr_s20210826000000_e20210826235959_p20210827021657_pub.nc.gz\n",
            "20210827 :  https://www.ngdc.noaa.gov/dscovr/data/2021/08/oe_m1m_dscovr_s20210827000000_e20210827235959_p20210828020829_pub.nc.gz\n",
            "20210828 :  https://www.ngdc.noaa.gov/dscovr/data/2021/08/oe_m1m_dscovr_s20210828000000_e20210828235959_p20210829021709_pub.nc.gz\n",
            "20210829 :  https://www.ngdc.noaa.gov/dscovr/data/2021/08/oe_m1m_dscovr_s20210829000000_e20210829235959_p20210830021642_pub.nc.gz\n",
            "20210830 :  https://www.ngdc.noaa.gov/dscovr/data/2021/08/oe_m1m_dscovr_s20210830000000_e20210830235959_p20210831014656_pub.nc.gz\n",
            "20210831 :  https://www.ngdc.noaa.gov/dscovr/data/2021/08/oe_m1m_dscovr_s20210831000000_e20210831235959_p20210901021755_pub.nc.gz\n",
            "20210901 :  https://www.ngdc.noaa.gov/dscovr/data/2021/09/oe_m1m_dscovr_s20210901000000_e20210901235959_p20210902021329_pub.nc.gz\n",
            "20210902 :  https://www.ngdc.noaa.gov/dscovr/data/2021/09/oe_m1m_dscovr_s20210902000000_e20210902235959_p20210903021737_pub.nc.gz\n",
            "20210903 :  https://www.ngdc.noaa.gov/dscovr/data/2021/09/oe_m1m_dscovr_s20210903000000_e20210903235959_p20210904021802_pub.nc.gz\n",
            "20210904 :  https://www.ngdc.noaa.gov/dscovr/data/2021/09/oe_m1m_dscovr_s20210904000000_e20210904235959_p20210905021739_pub.nc.gz\n",
            "20210905 :  https://www.ngdc.noaa.gov/dscovr/data/2021/09/oe_m1m_dscovr_s20210905000000_e20210905235959_p20210906021733_pub.nc.gz\n",
            "20210906 :  https://www.ngdc.noaa.gov/dscovr/data/2021/09/oe_m1m_dscovr_s20210906000000_e20210906235959_p20210907021809_pub.nc.gz\n",
            "20210907 :  https://www.ngdc.noaa.gov/dscovr/data/2021/09/oe_m1m_dscovr_s20210907000000_e20210907235959_p20210908021815_pub.nc.gz\n",
            "20210908 :  https://www.ngdc.noaa.gov/dscovr/data/2021/09/oe_m1m_dscovr_s20210908000000_e20210908235959_p20210909021748_pub.nc.gz\n",
            "20210909 :  https://www.ngdc.noaa.gov/dscovr/data/2021/09/oe_m1m_dscovr_s20210909000000_e20210909235959_p20210910021813_pub.nc.gz\n",
            "20210910 :  https://www.ngdc.noaa.gov/dscovr/data/2021/09/oe_m1m_dscovr_s20210910000000_e20210910235959_p20210911021804_pub.nc.gz\n",
            "20210911 :  https://www.ngdc.noaa.gov/dscovr/data/2021/09/oe_m1m_dscovr_s20210911000000_e20210911235959_p20210912021801_pub.nc.gz\n",
            "20210912 :  https://www.ngdc.noaa.gov/dscovr/data/2021/09/oe_m1m_dscovr_s20210912000000_e20210912235959_p20210913021812_pub.nc.gz\n",
            "20210913 :  https://www.ngdc.noaa.gov/dscovr/data/2021/09/oe_m1m_dscovr_s20210913000000_e20210913235959_p20210914021803_pub.nc.gz\n",
            "20210914 :  https://www.ngdc.noaa.gov/dscovr/data/2021/09/oe_m1m_dscovr_s20210914000000_e20210914235959_p20210917014056_pub.nc.gz\n",
            "20210915 :  https://www.ngdc.noaa.gov/dscovr/data/2021/09/oe_m1m_dscovr_s20210915000000_e20210915235959_p20210917030537_pub.nc.gz\n",
            "20210916 :  https://www.ngdc.noaa.gov/dscovr/data/2021/09/oe_m1m_dscovr_s20210916000000_e20210916235959_p20210917043017_pub.nc.gz\n",
            "20210917 :  https://www.ngdc.noaa.gov/dscovr/data/2021/09/oe_m1m_dscovr_s20210917000000_e20210917235959_p20210918021731_pub.nc.gz\n",
            "20210918 :  https://www.ngdc.noaa.gov/dscovr/data/2021/09/oe_m1m_dscovr_s20210918000000_e20210918235959_p20210919021753_pub.nc.gz\n",
            "20210919 :  https://www.ngdc.noaa.gov/dscovr/data/2021/09/oe_m1m_dscovr_s20210919000000_e20210919235959_p20210920021755_pub.nc.gz\n",
            "20210920 :  https://www.ngdc.noaa.gov/dscovr/data/2021/09/oe_m1m_dscovr_s20210920000000_e20210920235959_p20210921021759_pub.nc.gz\n",
            "20210921 :  https://www.ngdc.noaa.gov/dscovr/data/2021/09/oe_m1m_dscovr_s20210921000000_e20210921235959_p20210922021831_pub.nc.gz\n",
            "20210922 :  https://www.ngdc.noaa.gov/dscovr/data/2021/09/oe_m1m_dscovr_s20210922000000_e20210922235959_p20210923021757_pub.nc.gz\n",
            "20210923 :  https://www.ngdc.noaa.gov/dscovr/data/2021/09/oe_m1m_dscovr_s20210923000000_e20210923235959_p20210924021730_pub.nc.gz\n",
            "20210924 :  https://www.ngdc.noaa.gov/dscovr/data/2021/09/oe_m1m_dscovr_s20210924000000_e20210924235959_p20210925021343_pub.nc.gz\n",
            "20210925 :  https://www.ngdc.noaa.gov/dscovr/data/2021/09/oe_m1m_dscovr_s20210925000000_e20210925235959_p20210926021758_pub.nc.gz\n",
            "20210926 :  https://www.ngdc.noaa.gov/dscovr/data/2021/09/oe_m1m_dscovr_s20210926000000_e20210926235959_p20210927021740_pub.nc.gz\n",
            "20210927 :  https://www.ngdc.noaa.gov/dscovr/data/2021/09/oe_m1m_dscovr_s20210927000000_e20210927235959_p20210928021752_pub.nc.gz\n",
            "20210928 :  https://www.ngdc.noaa.gov/dscovr/data/2021/09/oe_m1m_dscovr_s20210928000000_e20210928235959_p20210929021822_pub.nc.gz\n",
            "20210929 :  https://www.ngdc.noaa.gov/dscovr/data/2021/09/oe_m1m_dscovr_s20210929000000_e20210929235959_p20210930014333_pub.nc.gz\n",
            "20210930 :  https://www.ngdc.noaa.gov/dscovr/data/2021/09/oe_m1m_dscovr_s20210930000000_e20210930235959_p20211001021633_pub.nc.gz\n",
            "20211001 :  https://www.ngdc.noaa.gov/dscovr/data/2021/10/oe_m1m_dscovr_s20211001000000_e20211001235959_p20211002021625_pub.nc.gz\n",
            "20211002 :  https://www.ngdc.noaa.gov/dscovr/data/2021/10/oe_m1m_dscovr_s20211002000000_e20211002235959_p20211003021619_pub.nc.gz\n",
            "20211003 :  https://www.ngdc.noaa.gov/dscovr/data/2021/10/oe_m1m_dscovr_s20211003000000_e20211003235959_p20211004021703_pub.nc.gz\n",
            "20211004 :  https://www.ngdc.noaa.gov/dscovr/data/2021/10/oe_m1m_dscovr_s20211004000000_e20211004235959_p20211005021244_pub.nc.gz\n",
            "20211005 :  https://www.ngdc.noaa.gov/dscovr/data/2021/10/oe_m1m_dscovr_s20211005000000_e20211005235959_p20211006021657_pub.nc.gz\n",
            "20211006 :  https://www.ngdc.noaa.gov/dscovr/data/2021/10/oe_m1m_dscovr_s20211006000000_e20211006235959_p20211007021721_pub.nc.gz\n",
            "20211007 :  https://www.ngdc.noaa.gov/dscovr/data/2021/10/oe_m1m_dscovr_s20211007000000_e20211007235959_p20211008021739_pub.nc.gz\n",
            "20211008 :  https://www.ngdc.noaa.gov/dscovr/data/2021/10/oe_m1m_dscovr_s20211008000000_e20211008235959_p20211009021736_pub.nc.gz\n",
            "20211009 :  https://www.ngdc.noaa.gov/dscovr/data/2021/10/oe_m1m_dscovr_s20211009000000_e20211009235959_p20211010021742_pub.nc.gz\n",
            "20211010 :  https://www.ngdc.noaa.gov/dscovr/data/2021/10/oe_m1m_dscovr_s20211010000000_e20211010235959_p20211011021740_pub.nc.gz\n",
            "20211011 :  https://www.ngdc.noaa.gov/dscovr/data/2021/10/oe_m1m_dscovr_s20211011000000_e20211011235959_p20211012021728_pub.nc.gz\n",
            "20211012 :  https://www.ngdc.noaa.gov/dscovr/data/2021/10/oe_m1m_dscovr_s20211012000000_e20211012235959_p20211013021723_pub.nc.gz\n",
            "20211013 :  https://www.ngdc.noaa.gov/dscovr/data/2021/10/oe_m1m_dscovr_s20211013000000_e20211013235959_p20211014021737_pub.nc.gz\n",
            "20211014 :  https://www.ngdc.noaa.gov/dscovr/data/2021/10/oe_m1m_dscovr_s20211014000000_e20211014235959_p20211015021726_pub.nc.gz\n",
            "20211015 :  https://www.ngdc.noaa.gov/dscovr/data/2021/10/oe_m1m_dscovr_s20211015000000_e20211015235959_p20211016021720_pub.nc.gz\n",
            "20211016 :  https://www.ngdc.noaa.gov/dscovr/data/2021/10/oe_m1m_dscovr_s20211016000000_e20211016235959_p20211017021826_pub.nc.gz\n",
            "20211017 :  https://www.ngdc.noaa.gov/dscovr/data/2021/10/oe_m1m_dscovr_s20211017000000_e20211017235959_p20211018021752_pub.nc.gz\n",
            "20211018 :  https://www.ngdc.noaa.gov/dscovr/data/2021/10/oe_m1m_dscovr_s20211018000000_e20211018235959_p20211019021749_pub.nc.gz\n",
            "20211019 :  https://www.ngdc.noaa.gov/dscovr/data/2021/10/oe_m1m_dscovr_s20211019000000_e20211019235959_p20211020021816_pub.nc.gz\n",
            "20211020 :  https://www.ngdc.noaa.gov/dscovr/data/2021/10/oe_m1m_dscovr_s20211020000000_e20211020235959_p20211021021530_pub.nc.gz\n",
            "20211021 :  https://www.ngdc.noaa.gov/dscovr/data/2021/10/oe_m1m_dscovr_s20211021000000_e20211021235959_p20211022021807_pub.nc.gz\n",
            "20211022 :  https://www.ngdc.noaa.gov/dscovr/data/2021/10/oe_m1m_dscovr_s20211022000000_e20211022235959_p20211023021505_pub.nc.gz\n",
            "20211023 :  https://www.ngdc.noaa.gov/dscovr/data/2021/10/oe_m1m_dscovr_s20211023000000_e20211023235959_p20211024021804_pub.nc.gz\n",
            "20211024 :  https://www.ngdc.noaa.gov/dscovr/data/2021/10/oe_m1m_dscovr_s20211024000000_e20211024235959_p20211025021755_pub.nc.gz\n",
            "20211025 :  https://www.ngdc.noaa.gov/dscovr/data/2021/10/oe_m1m_dscovr_s20211025000000_e20211025235959_p20211026021800_pub.nc.gz\n",
            "20211026 :  https://www.ngdc.noaa.gov/dscovr/data/2021/10/oe_m1m_dscovr_s20211026000000_e20211026235959_p20211027021754_pub.nc.gz\n",
            "20211027 :  https://www.ngdc.noaa.gov/dscovr/data/2021/10/oe_m1m_dscovr_s20211027000000_e20211027235959_p20211028021747_pub.nc.gz\n",
            "20211028 :  https://www.ngdc.noaa.gov/dscovr/data/2021/10/oe_m1m_dscovr_s20211028000000_e20211028235959_p20211029021745_pub.nc.gz\n",
            "20211029 :  https://www.ngdc.noaa.gov/dscovr/data/2021/10/oe_m1m_dscovr_s20211029000000_e20211029235959_p20211030021752_pub.nc.gz\n",
            "20211030 :  https://www.ngdc.noaa.gov/dscovr/data/2021/10/oe_m1m_dscovr_s20211030000000_e20211030235959_p20211101021457_pub.nc.gz\n",
            "20211031 :  https://www.ngdc.noaa.gov/dscovr/data/2021/10/oe_m1m_dscovr_s20211031000000_e20211031235959_p20211101033139_pub.nc.gz\n",
            "20211101 :  https://www.ngdc.noaa.gov/dscovr/data/2021/11/oe_m1m_dscovr_s20211101000000_e20211101235959_p20211102021724_pub.nc.gz\n",
            "20211102 :  https://www.ngdc.noaa.gov/dscovr/data/2021/11/oe_m1m_dscovr_s20211102000000_e20211102235959_p20211103021735_pub.nc.gz\n",
            "20211103 :  https://www.ngdc.noaa.gov/dscovr/data/2021/11/oe_m1m_dscovr_s20211103000000_e20211103235959_p20211104024938_pub.nc.gz\n",
            "20211104 :  https://www.ngdc.noaa.gov/dscovr/data/2021/11/oe_m1m_dscovr_s20211104000000_e20211104235959_p20211105021704_pub.nc.gz\n",
            "20211105 :  https://www.ngdc.noaa.gov/dscovr/data/2021/11/oe_m1m_dscovr_s20211105000000_e20211105235959_p20211106021641_pub.nc.gz\n",
            "20211106 :  https://www.ngdc.noaa.gov/dscovr/data/2021/11/oe_m1m_dscovr_s20211106000000_e20211106235959_p20211107021659_pub.nc.gz\n",
            "20211107 :  https://www.ngdc.noaa.gov/dscovr/data/2021/11/oe_m1m_dscovr_s20211107000000_e20211107235959_p20211108021707_pub.nc.gz\n",
            "20211108 :  https://www.ngdc.noaa.gov/dscovr/data/2021/11/oe_m1m_dscovr_s20211108000000_e20211108235959_p20211109021409_pub.nc.gz\n",
            "20211109 :  https://www.ngdc.noaa.gov/dscovr/data/2021/11/oe_m1m_dscovr_s20211109000000_e20211109235959_p20211110021753_pub.nc.gz\n",
            "20211110 :  https://www.ngdc.noaa.gov/dscovr/data/2021/11/oe_m1m_dscovr_s20211110000000_e20211110235959_p20211111021135_pub.nc.gz\n",
            "20211111 :  https://www.ngdc.noaa.gov/dscovr/data/2021/11/oe_m1m_dscovr_s20211111000000_e20211111235959_p20211112021726_pub.nc.gz\n",
            "20211112 :  https://www.ngdc.noaa.gov/dscovr/data/2021/11/oe_m1m_dscovr_s20211112000000_e20211112235959_p20211113021714_pub.nc.gz\n",
            "20211113 :  https://www.ngdc.noaa.gov/dscovr/data/2021/11/oe_m1m_dscovr_s20211113000000_e20211113235959_p20211114021715_pub.nc.gz\n",
            "20211114 :  https://www.ngdc.noaa.gov/dscovr/data/2021/11/oe_m1m_dscovr_s20211114000000_e20211114235959_p20211115021741_pub.nc.gz\n",
            "20211115 :  https://www.ngdc.noaa.gov/dscovr/data/2021/11/oe_m1m_dscovr_s20211115000000_e20211115235959_p20211116021721_pub.nc.gz\n",
            "20211116 :  https://www.ngdc.noaa.gov/dscovr/data/2021/11/oe_m1m_dscovr_s20211116000000_e20211116235959_p20211117021650_pub.nc.gz\n",
            "20211117 :  https://www.ngdc.noaa.gov/dscovr/data/2021/11/oe_m1m_dscovr_s20211117000000_e20211117235959_p20211118021252_pub.nc.gz\n",
            "20211118 :  https://www.ngdc.noaa.gov/dscovr/data/2021/11/oe_m1m_dscovr_s20211118000000_e20211118235959_p20211119021600_pub.nc.gz\n",
            "20211119 :  https://www.ngdc.noaa.gov/dscovr/data/2021/11/oe_m1m_dscovr_s20211119000000_e20211119235959_p20211120021622_pub.nc.gz\n",
            "20211120 :  https://www.ngdc.noaa.gov/dscovr/data/2021/11/oe_m1m_dscovr_s20211120000000_e20211120235959_p20211121021058_pub.nc.gz\n",
            "20211121 :  https://www.ngdc.noaa.gov/dscovr/data/2021/11/oe_m1m_dscovr_s20211121000000_e20211121235959_p20211122021629_pub.nc.gz\n",
            "20211122 :  https://www.ngdc.noaa.gov/dscovr/data/2021/11/oe_m1m_dscovr_s20211122000000_e20211122235959_p20211123021640_pub.nc.gz\n",
            "20211123 :  https://www.ngdc.noaa.gov/dscovr/data/2021/11/oe_m1m_dscovr_s20211123000000_e20211123235959_p20211124021629_pub.nc.gz\n",
            "20211124 :  https://www.ngdc.noaa.gov/dscovr/data/2021/11/oe_m1m_dscovr_s20211124000000_e20211124235959_p20211125021618_pub.nc.gz\n",
            "20211125 :  https://www.ngdc.noaa.gov/dscovr/data/2021/11/oe_m1m_dscovr_s20211125000000_e20211125235959_p20211126021622_pub.nc.gz\n",
            "20211126 :  https://www.ngdc.noaa.gov/dscovr/data/2021/11/oe_m1m_dscovr_s20211126000000_e20211126235959_p20211127021636_pub.nc.gz\n",
            "20211127 :  https://www.ngdc.noaa.gov/dscovr/data/2021/11/oe_m1m_dscovr_s20211127000000_e20211127235959_p20211128021636_pub.nc.gz\n",
            "20211128 :  https://www.ngdc.noaa.gov/dscovr/data/2021/11/oe_m1m_dscovr_s20211128000000_e20211128235959_p20211129021641_pub.nc.gz\n",
            "20211129 :  https://www.ngdc.noaa.gov/dscovr/data/2021/11/oe_m1m_dscovr_s20211129000000_e20211129235959_p20211130021605_pub.nc.gz\n",
            "20211130 :  https://www.ngdc.noaa.gov/dscovr/data/2021/11/oe_m1m_dscovr_s20211130000000_e20211130235959_p20211201021518_pub.nc.gz\n",
            "20211201 :  https://www.ngdc.noaa.gov/dscovr/data/2021/12/oe_m1m_dscovr_s20211201000000_e20211201235959_p20211202021508_pub.nc.gz\n",
            "20211202 :  https://www.ngdc.noaa.gov/dscovr/data/2021/12/oe_m1m_dscovr_s20211202000000_e20211202235959_p20211203021636_pub.nc.gz\n",
            "20211203 :  https://www.ngdc.noaa.gov/dscovr/data/2021/12/oe_m1m_dscovr_s20211203000000_e20211203235959_p20211204021656_pub.nc.gz\n",
            "20211204 :  https://www.ngdc.noaa.gov/dscovr/data/2021/12/oe_m1m_dscovr_s20211204000000_e20211204235959_p20211205021645_pub.nc.gz\n",
            "20211205 :  https://www.ngdc.noaa.gov/dscovr/data/2021/12/oe_m1m_dscovr_s20211205000000_e20211205235959_p20211206021647_pub.nc.gz\n",
            "20211206 :  https://www.ngdc.noaa.gov/dscovr/data/2021/12/oe_m1m_dscovr_s20211206000000_e20211206235959_p20211207021703_pub.nc.gz\n",
            "20211207 :  https://www.ngdc.noaa.gov/dscovr/data/2021/12/oe_m1m_dscovr_s20211207000000_e20211207235959_p20211208021730_pub.nc.gz\n",
            "20211208 :  https://www.ngdc.noaa.gov/dscovr/data/2021/12/oe_m1m_dscovr_s20211208000000_e20211208235959_p20211210021224_pub.nc.gz\n",
            "20211209 :  https://www.ngdc.noaa.gov/dscovr/data/2021/12/oe_m1m_dscovr_s20211209000000_e20211209235959_p20211210024806_pub.nc.gz\n",
            "20211210 :  https://www.ngdc.noaa.gov/dscovr/data/2021/12/oe_m1m_dscovr_s20211210000000_e20211210235959_p20211211020534_pub.nc.gz\n",
            "20211211 :  https://www.ngdc.noaa.gov/dscovr/data/2021/12/oe_m1m_dscovr_s20211211000000_e20211211235959_p20211212021608_pub.nc.gz\n",
            "20211212 :  https://www.ngdc.noaa.gov/dscovr/data/2021/12/oe_m1m_dscovr_s20211212000000_e20211212235959_p20211213021442_pub.nc.gz\n",
            "20211213 :  https://www.ngdc.noaa.gov/dscovr/data/2021/12/oe_m1m_dscovr_s20211213000000_e20211213235959_p20211214021703_pub.nc.gz\n",
            "20211214 :  https://www.ngdc.noaa.gov/dscovr/data/2021/12/oe_m1m_dscovr_s20211214000000_e20211214235959_p20211215021709_pub.nc.gz\n",
            "20211215 :  https://www.ngdc.noaa.gov/dscovr/data/2021/12/oe_m1m_dscovr_s20211215000000_e20211215235959_p20211216021408_pub.nc.gz\n",
            "20211216 :  https://www.ngdc.noaa.gov/dscovr/data/2021/12/oe_m1m_dscovr_s20211216000000_e20211216235959_p20211217021632_pub.nc.gz\n",
            "20211217 :  https://www.ngdc.noaa.gov/dscovr/data/2021/12/oe_m1m_dscovr_s20211217000000_e20211217235959_p20211218021152_pub.nc.gz\n",
            "20211218 :  https://www.ngdc.noaa.gov/dscovr/data/2021/12/oe_m1m_dscovr_s20211218000000_e20211218235959_p20211219021617_pub.nc.gz\n",
            "20211219 :  https://www.ngdc.noaa.gov/dscovr/data/2021/12/oe_m1m_dscovr_s20211219000000_e20211219235959_p20211220021614_pub.nc.gz\n",
            "20211220 :  https://www.ngdc.noaa.gov/dscovr/data/2021/12/oe_m1m_dscovr_s20211220000000_e20211220235959_p20211221021549_pub.nc.gz\n",
            "20211221 :  https://www.ngdc.noaa.gov/dscovr/data/2021/12/oe_m1m_dscovr_s20211221000000_e20211221235959_p20211222021520_pub.nc.gz\n",
            "20211222 :  https://www.ngdc.noaa.gov/dscovr/data/2021/12/oe_m1m_dscovr_s20211222000000_e20211222235959_p20211224013457_pub.nc.gz\n",
            "20211223 :  https://www.ngdc.noaa.gov/dscovr/data/2021/12/oe_m1m_dscovr_s20211223000000_e20211223235959_p20211224024604_pub.nc.gz\n",
            "20211224 :  https://www.ngdc.noaa.gov/dscovr/data/2021/12/oe_m1m_dscovr_s20211224000000_e20211224235959_p20211225021016_pub.nc.gz\n",
            "20211225 :  https://www.ngdc.noaa.gov/dscovr/data/2021/12/oe_m1m_dscovr_s20211225000000_e20211225235959_p20211226021147_pub.nc.gz\n",
            "20211226 :  https://www.ngdc.noaa.gov/dscovr/data/2021/12/oe_m1m_dscovr_s20211226000000_e20211226235959_p20211227021126_pub.nc.gz\n",
            "20211227 :  https://www.ngdc.noaa.gov/dscovr/data/2021/12/oe_m1m_dscovr_s20211227000000_e20211227235959_p20211228021036_pub.nc.gz\n",
            "20211228 :  https://www.ngdc.noaa.gov/dscovr/data/2021/12/oe_m1m_dscovr_s20211228000000_e20211228235959_p20211229021028_pub.nc.gz\n",
            "20211229 :  https://www.ngdc.noaa.gov/dscovr/data/2021/12/oe_m1m_dscovr_s20211229000000_e20211229235959_p20211230021008_pub.nc.gz\n",
            "20211230 :  https://www.ngdc.noaa.gov/dscovr/data/2021/12/oe_m1m_dscovr_s20211230000000_e20211230235959_p20211231020959_pub.nc.gz\n",
            "20211231 :  https://www.ngdc.noaa.gov/dscovr/data/2021/12/oe_m1m_dscovr_s20211231000000_e20211231235959_p20220101020945_pub.nc.gz\n"
          ]
        }
      ]
    },
    {
      "cell_type": "code",
      "source": [
        "l=len(urllist)"
      ],
      "metadata": {
        "id": "u0nbsMvgJpy4"
      },
      "execution_count": null,
      "outputs": []
    },
    {
      "cell_type": "code",
      "source": [
        "magdata=[]"
      ],
      "metadata": {
        "id": "1x6x5kGiJ1tq"
      },
      "execution_count": null,
      "outputs": []
    },
    {
      "cell_type": "code",
      "source": [
        "for i in range(0,l):\n",
        "  ds=xr.open_dataset('/content/'+urllist[i])\n",
        "  df=ds.to_dataframe()\n",
        "  actualdf=df.dropna()\n",
        "  df_len=len(actualdf)\n",
        "  for j in range(0,df_len,60):\n",
        "   bx_gse_hour=np.nanmean(np.array(actualdf['bx_gse'][j:j+60]))\n",
        "   by_gse_hour=np.nanmean(np.array(actualdf['by_gse'][j:j+60]))\n",
        "   bz_gse_hour=np.nanmean(np.array(actualdf['bz_gse'][j:j+60]))\n",
        "   magdata.append([bx_gse_hour,by_gse_hour,bz_gse_hour])"
      ],
      "metadata": {
        "id": "hrC0-sh9J4V2"
      },
      "execution_count": null,
      "outputs": []
    },
    {
      "cell_type": "code",
      "source": [
        "magdata_numpy=np.array(magdata)"
      ],
      "metadata": {
        "id": "FqFNRDUcLSy1"
      },
      "execution_count": null,
      "outputs": []
    },
    {
      "cell_type": "code",
      "source": [
        "magdata_torch= torch.from_numpy(magdata_numpy)"
      ],
      "metadata": {
        "id": "bxoPhMDBLdjc"
      },
      "execution_count": null,
      "outputs": []
    },
    {
      "cell_type": "code",
      "source": [
        "m3=magdata_torch.unsqueeze(-1)"
      ],
      "metadata": {
        "id": "zJgkEZcoLgRm"
      },
      "execution_count": null,
      "outputs": []
    },
    {
      "cell_type": "code",
      "source": [
        "datalen=m3.shape[0]"
      ],
      "metadata": {
        "id": "gzcYdXdNLyqj"
      },
      "execution_count": null,
      "outputs": []
    },
    {
      "cell_type": "code",
      "source": [
        "m3=m3.expand(datalen,3,3)"
      ],
      "metadata": {
        "id": "pkA2hpfbLnRR"
      },
      "execution_count": null,
      "outputs": []
    },
    {
      "cell_type": "code",
      "source": [
        "m3=m3.transpose(1,0)"
      ],
      "metadata": {
        "id": "_CicJWUJL9aW"
      },
      "execution_count": null,
      "outputs": []
    },
    {
      "cell_type": "code",
      "source": [
        "class Seq2Seq(nn.Module):\n",
        "    def __init__(\n",
        "        self,\n",
        "        input_dim: int,\n",
        "        hidden_dim: int,\n",
        "        output_dim: int,\n",
        "        num_layers: int) -> None:\n",
        "        super(Seq2Seq, self).__init__()\n",
        "\n",
        "        self.rnn = nn.GRU(input_dim, hidden_dim, num_layers, batch_first=True)\n",
        "        self.dnn = nn.Sequential(\n",
        "            nn.Linear(hidden_dim, output_dim)\n",
        "        )\n",
        "\n",
        "    def forward(self, seq: torch.Tensor) -> torch.Tensor:\n",
        "        output, hn = self.rnn(seq)\n",
        "        output = self.dnn(output)\n",
        "        return output"
      ],
      "metadata": {
        "id": "XlbxHCZfQdaA"
      },
      "execution_count": null,
      "outputs": []
    },
    {
      "cell_type": "code",
      "source": [
        "model1 = Seq2Seq(3,3,3,3)\n",
        "model1.load_state_dict(torch.load(os.path.join('/content/drive/MyDrive', \"dscovr_proton3.pt\")))"
      ],
      "metadata": {
        "id": "S2NJ6dWhQeDm",
        "colab": {
          "base_uri": "https://localhost:8080/"
        },
        "outputId": "b63f9401-fab8-408d-92b6-47347120e5be"
      },
      "execution_count": null,
      "outputs": [
        {
          "output_type": "execute_result",
          "data": {
            "text/plain": [
              "<All keys matched successfully>"
            ]
          },
          "metadata": {},
          "execution_count": 23
        }
      ]
    },
    {
      "cell_type": "code",
      "source": [
        "proton=model1(m3.float())"
      ],
      "metadata": {
        "id": "dOZw8JKTQIWw"
      },
      "execution_count": null,
      "outputs": []
    },
    {
      "cell_type": "code",
      "source": [
        "nprot3=[]\n",
        "for i in range(proton.shape[1]):\n",
        "  pnp=0\n",
        "  for j in range(proton.shape[0]):\n",
        "    pnp+=proton[j][i][2].detach().numpy()\n",
        "  pnp=pnp/proton.shape[0]\n",
        "  nprot3.append(pnp)"
      ],
      "metadata": {
        "id": "vRmkcxZJt4fh"
      },
      "execution_count": null,
      "outputs": []
    },
    {
      "cell_type": "code",
      "source": [
        "nprot3_torch=torch.from_numpy(np.array(nprot3))"
      ],
      "metadata": {
        "id": "bTVZzU17vKq7"
      },
      "execution_count": null,
      "outputs": []
    },
    {
      "cell_type": "code",
      "source": [
        "import warnings\n",
        "warnings.filterwarnings('ignore')"
      ],
      "metadata": {
        "id": "CXI1Cxxla7c8"
      },
      "execution_count": null,
      "outputs": []
    },
    {
      "cell_type": "code",
      "source": [
        "df = open('/content/drive/MyDrive/dstnew.txt', \"r\")\n",
        "lines = df.readlines()\n",
        "dstarray=[]\n",
        "count=0\n",
        "for index, line in enumerate(lines):\n",
        "      lines[index] = line.strip().split()\n",
        "      del lines[index][0]\n",
        "      del lines[index][0]\n",
        "      l=len(lines[index])\n",
        "      for i in range(l):\n",
        "        count+=1\n",
        "        if count!=7687:\n",
        "         dstarray.append(int(lines[index][i]))"
      ],
      "metadata": {
        "id": "yRGmI4uT0qfX"
      },
      "execution_count": null,
      "outputs": []
    },
    {
      "cell_type": "code",
      "source": [
        "dstarrayn=np.array(dstarray)"
      ],
      "metadata": {
        "id": "jVB9M38CFAxc"
      },
      "execution_count": null,
      "outputs": []
    },
    {
      "cell_type": "code",
      "source": [
        "dsttensor=torch.from_numpy(dstarrayn)"
      ],
      "metadata": {
        "id": "SSGpOb3gE7rx"
      },
      "execution_count": null,
      "outputs": []
    },
    {
      "cell_type": "code",
      "source": [
        "class WindProtonDatasetToDST():\n",
        "\tdef __init__(self):\n",
        "\t\tself.x_prime = torch.tensor([]).float()\n",
        "\t\tself.dst = torch.tensor([]).float()\n",
        "\t\tself.x_prime = torch.cat([self.x_prime, nprot3_torch.unsqueeze(-1).float()], dim=0)\n",
        "\t\tself.dst = torch.cat([self.dst, dsttensor[:self.x_prime.shape[0]].unsqueeze(-1).float()], dim=0)\n",
        "\t\t\n",
        "\t\tprint(\"total x_prime shape:\", self.x_prime.shape)\n",
        "\t\tprint(\"total dst shape:\", self.dst.shape)\n",
        "\n",
        "\n",
        "\tdef __len__(self) -> int:\n",
        "\t\treturn self.dst.shape[0]\n",
        "\n",
        "\tdef __getitem__(self, index):\n",
        "\t\treturn self.x_prime[index],self.dst[index]"
      ],
      "metadata": {
        "id": "bmH1fOl8DcMh"
      },
      "execution_count": null,
      "outputs": []
    },
    {
      "cell_type": "code",
      "source": [
        "  d=WindProtonDatasetToDST()\n",
        "  data_len = len(d)\n",
        "  train_ratio,test_ratio = 0.7,0.3\n",
        "  train_len= int(data_len*train_ratio)\n",
        "  test_len = data_len - train_len \n",
        "  train_dataset,test_dataset = random_split(d, [train_len,test_len])\n",
        "  print(f\"train,test dataset len: {len(train_dataset)}, {len(test_dataset)}\")\n",
        "  train_loader = DataLoader(train_dataset, 10000, shuffle=True)\n",
        "  test_loader = DataLoader(test_dataset, 10000, shuffle=False)\n",
        "  model = Seq2Seq(1,1,1,3)\n",
        "  print(model)\n",
        "  optimizer = torch.optim.Adam(model.parameters(), lr=0.8)\n",
        "  scheduler = optim.lr_scheduler.ReduceLROnPlateau(optimizer, 'min', factor=0.5, patience=2, min_lr=5e-5)\n",
        "  loss_train=0\n",
        "  prev_train=100\n",
        "  while abs(loss_train-prev_train)>0.001:\n",
        "    model.train()\n",
        "    prev_train=loss_train\n",
        "    loss_train, acc_train, iterations = 0, 0, 0\n",
        "    for x_prime, dst in train_loader:\n",
        "      outputs = model(x_prime)\n",
        "      criterion = torch.nn.MSELoss()\n",
        "      weight=torch.where(dst<=0,10.,20.)\n",
        "      newdst=dst/weight\n",
        "      loss = criterion(outputs, newdst)\n",
        "      optimizer.zero_grad()\n",
        "      loss.backward()\n",
        "      optimizer.step()\n",
        "      iterations+= 1\n",
        "      loss_train += loss.item()\n",
        "    loss_train /= iterations\n",
        "    print(f\"train_loss: {loss_train:.4f}\")\n",
        "    torch.save(model.state_dict(), os.path.join('/content/drive/MyDrive', \"proton_to_dst_new19.pt\"))\n",
        "\t\t\n",
        "\n"
      ],
      "metadata": {
        "id": "ENJDBEkH7ydF",
        "colab": {
          "base_uri": "https://localhost:8080/"
        },
        "outputId": "d25f8e93-02b8-4a7d-d1b9-c5f9b35b828b"
      },
      "execution_count": null,
      "outputs": [
        {
          "output_type": "stream",
          "name": "stdout",
          "text": [
            "total x_prime shape: torch.Size([8604, 1])\n",
            "total dst shape: torch.Size([8604, 1])\n",
            "train,test dataset len: 6022, 2582\n",
            "Seq2Seq(\n",
            "  (rnn): GRU(1, 1, num_layers=3, batch_first=True)\n",
            "  (dnn): Sequential(\n",
            "    (0): Linear(in_features=1, out_features=1, bias=True)\n",
            "  )\n",
            ")\n",
            "train_loss: 1.3886\n",
            "train_loss: 3.1368\n",
            "train_loss: 1.4350\n",
            "train_loss: 1.5535\n",
            "train_loss: 2.2321\n",
            "train_loss: 1.9483\n",
            "train_loss: 1.3822\n",
            "train_loss: 1.2705\n",
            "train_loss: 1.5849\n",
            "train_loss: 1.7720\n",
            "train_loss: 1.6024\n",
            "train_loss: 1.3274\n",
            "train_loss: 1.2470\n",
            "train_loss: 1.3890\n",
            "train_loss: 1.5280\n",
            "train_loss: 1.4911\n",
            "train_loss: 1.3388\n",
            "train_loss: 1.2435\n",
            "train_loss: 1.2852\n",
            "train_loss: 1.3823\n",
            "train_loss: 1.4047\n",
            "train_loss: 1.3325\n",
            "train_loss: 1.2547\n",
            "train_loss: 1.2762\n",
            "train_loss: 1.3038\n",
            "train_loss: 1.3256\n",
            "train_loss: 1.3021\n",
            "train_loss: 1.2574\n",
            "train_loss: 1.2418\n",
            "train_loss: 1.2649\n",
            "train_loss: 1.2889\n",
            "train_loss: 1.2819\n",
            "train_loss: 1.2546\n",
            "train_loss: 1.2412\n",
            "train_loss: 1.2535\n",
            "train_loss: 1.2696\n",
            "train_loss: 1.2665\n",
            "train_loss: 1.2497\n",
            "train_loss: 1.2412\n",
            "train_loss: 1.2491\n",
            "train_loss: 1.2589\n",
            "train_loss: 1.2560\n",
            "train_loss: 1.2453\n",
            "train_loss: 1.2414\n",
            "train_loss: 1.2474\n",
            "train_loss: 1.2525\n",
            "train_loss: 1.2490\n",
            "train_loss: 1.2425\n",
            "train_loss: 1.2419\n"
          ]
        }
      ]
    },
    {
      "cell_type": "code",
      "source": [
        "\n",
        "  model = Seq2Seq(1,1,1,3)\n",
        "  model.load_state_dict(torch.load(os.path.join('/content/drive/MyDrive', \"proton_to_dst_new19.pt\")))\n",
        "  model.eval()\n",
        "  with torch.no_grad():\n",
        "    loss_test, acc_test,iterations = 0, 0, 0 \n",
        "    for x_prime, dst in test_loader:\n",
        "      outputs = model(x_prime)\n",
        "      weight = torch.where(dst<=0, 10., 20.)\n",
        "      newdst=dst/weight\n",
        "      loss = criterion(outputs, newdst)\n",
        "      iterations += 1\n",
        "      loss_test += loss.item()\n",
        "      for i in range(outputs.shape[0]):\n",
        "       if loss_test<1.1 and abs(outputs[i]-newdst[i])<=loss_test:\n",
        "         acc_test+=1\n",
        "       elif abs(outputs[i]-newdst[i])<1.4:\n",
        "         acc_test+=1\n",
        "    loss_test /= iterations\n",
        "    acc_test /= outputs.shape[0]\n",
        "  print(f\"test_acc: {acc_test*100:.4f},test_loss: {loss_test:.4f}\")"
      ],
      "metadata": {
        "id": "SC3EXbPyCnzG",
        "colab": {
          "base_uri": "https://localhost:8080/"
        },
        "outputId": "e449d43a-3d18-4b83-d67a-8ae190eb052e"
      },
      "execution_count": null,
      "outputs": [
        {
          "output_type": "stream",
          "name": "stdout",
          "text": [
            "test_acc: 87.8389,test_loss: 1.2508\n"
          ]
        }
      ]
    }
  ]
}