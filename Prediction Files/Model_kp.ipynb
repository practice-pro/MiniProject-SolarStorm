import requests
import regex as re
import wget
import os
import pandas as pd
import datetime
import numpy as np
import torch
import xarray as xr
import torch.nn as nn
from argparse import ArgumentParser, Namespace
import enum
from pathlib import Path
from typing import Dict
import matplotlib.pyplot as plt

class Seq2Seq(nn.Module):
    def __init__(
        self,
        input_dim: int,
        hidden_dim: int,
        output_dim: int,
        num_layers: int) -> None:
        super(Seq2Seq, self).__init__()

        self.rnn = nn.GRU(input_dim, hidden_dim, num_layers, batch_first=True)
        self.dnn = nn.Sequential(
            nn.Linear(hidden_dim, output_dim)
        )

    def forward(self, seq: torch.Tensor) -> torch.Tensor:
        output, hn = self.rnn(seq)
        output = self.dnn(output)
        return output
        
day1=[]
day2=[]
day3=[]
urllist=[]
magdata=[]
hours=["00:00-02:59","03:00-05:59","06:00-08:59","09:00-11:59","12:00-14:59","15:00-17:59","18:00-20:59","21:00-23:59"]

sd = datetime.datetime(2023,5,16).strftime("%Y%m%d")
ed = datetime.datetime(2023,5,16).strftime("%Y%m%d")
ls=pd.date_range(sd,ed)
dates=[dt.strftime("%Y%m%d") for dt in ls]
years={date[:4] for date in dates}
months={date[4:6] for date in dates}
txt=""
for year in years:
    for month in months:
        base='https://www.ngdc.noaa.gov/dscovr/data/'+year+'/'+month+'/'
        txt+=requests.get(base).text
       
for date in dates:
    base='https://www.ngdc.noaa.gov/dscovr/data/'+date[:4]+'/'+date[4:6]+'/'
    x=re.search(str("oe_m1m_dscovr_s"+date+"000000_"), txt).start()
    url=base+txt[x: x+71]
    print(date,": ",url)
    urllist.append(url[46:])
    wget.download(url)

l=len(urllist)
for i in range(0,l):
  ds=xr.open_dataset('/content/'+urllist[i])
  df=ds.to_dataframe()
  actualdf=df.dropna()
  df_len=len(actualdf)
  for j in range(0,df_len,180):
    bx_gse_hour=np.nanmean(np.array(actualdf['bx_gse'][j:j+180]))
    by_gse_hour=np.nanmean(np.array(actualdf['by_gse'][j:j+180]))
    bz_gse_hour=np.nanmean(np.array(actualdf['bz_gse'][j:j+180]))
    magdata.append([bx_gse_hour,by_gse_hour,bz_gse_hour])
   
magdata_numpy=np.array(magdata)
magdata_torch= torch.from_numpy(magdata_numpy)
model2 = Seq2Seq(1,3,1,3)
model2.load_state_dict(torch.load("/content/drive/MyDrive/proton_to_forecast.pt"))
m3=magdata_torch.unsqueeze(-1)
kpindex=model2(m3.float())
knp=kpindex.detach().numpy()

lp=len(knp)
for i in range(lp):
  day1.append(knp[i][0][0])
  day2.append(knp[i][1][0])
  day3.append(knp[i][2][0])
